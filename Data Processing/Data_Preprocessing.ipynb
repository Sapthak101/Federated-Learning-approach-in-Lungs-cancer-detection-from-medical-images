{
 "cells": [
  {
   "cell_type": "markdown",
   "metadata": {},
   "source": [
    "Importing Libraries"
   ]
  },
  {
   "cell_type": "code",
   "execution_count": 1,
   "metadata": {},
   "outputs": [],
   "source": [
    "import numpy as np\n",
    "import matplotlib.pyplot as plt\n",
    "import seaborn as sns\n",
    "import pandas as pd\n",
    "import plotly.express as px\n",
    "import plotly.graph_objects as go\n",
    "from plotly.subplots import make_subplots\n",
    "from sklearn.utils import class_weight\n",
    "from sklearn.model_selection import train_test_split\n",
    "import tensorflow as tf\n",
    "from keras.preprocessing.image import ImageDataGenerator\n",
    "from keras.models import Sequential\n",
    "from keras.layers import Conv2D, MaxPool2D,Flatten, Dense, Dropout, BatchNormalization, Input\n",
    "from tensorflow.keras.callbacks import Callback, EarlyStopping, ModelCheckpoint, ReduceLROnPlateau\n",
    "from tensorflow.keras.optimizers import Adam\n",
    "from tensorflow.keras.applications.inception_v3 import InceptionV3\n",
    "from keras.applications.vgg16 import VGG16\n",
    "import os\n",
    "import cv2"
   ]
  },
  {
   "cell_type": "markdown",
   "metadata": {},
   "source": [
    "Data Paths"
   ]
  },
  {
   "cell_type": "code",
   "execution_count": 2,
   "metadata": {},
   "outputs": [],
   "source": [
    "bengin_path = \"Dataset 1/The IQ-OTHNCCD lung cancer dataset/The IQ-OTHNCCD lung cancer dataset/Bengin cases\"\n",
    "malignant_path = \"Dataset 1/The IQ-OTHNCCD lung cancer dataset/The IQ-OTHNCCD lung cancer dataset/Malignant cases\"\n",
    "normal_path = \"Dataset 1/The IQ-OTHNCCD lung cancer dataset/The IQ-OTHNCCD lung cancer dataset/Normal cases\""
   ]
  },
  {
   "cell_type": "markdown",
   "metadata": {},
   "source": [
    "DataFrame Preparation"
   ]
  },
  {
   "cell_type": "code",
   "execution_count": 3,
   "metadata": {},
   "outputs": [],
   "source": [
    "image_classes = [\"Bengin cases\", \"Malignant cases\", \"Normal cases\"]\n",
    "pc_path_list = [bengin_path, malignant_path, normal_path]"
   ]
  },
  {
   "cell_type": "code",
   "execution_count": 4,
   "metadata": {},
   "outputs": [
    {
     "data": {
      "text/html": [
       "<div>\n",
       "<style scoped>\n",
       "    .dataframe tbody tr th:only-of-type {\n",
       "        vertical-align: middle;\n",
       "    }\n",
       "\n",
       "    .dataframe tbody tr th {\n",
       "        vertical-align: top;\n",
       "    }\n",
       "\n",
       "    .dataframe thead th {\n",
       "        text-align: right;\n",
       "    }\n",
       "</style>\n",
       "<table border=\"1\" class=\"dataframe\">\n",
       "  <thead>\n",
       "    <tr style=\"text-align: right;\">\n",
       "      <th></th>\n",
       "      <th>image_path</th>\n",
       "      <th>image_label</th>\n",
       "    </tr>\n",
       "  </thead>\n",
       "  <tbody>\n",
       "    <tr>\n",
       "      <th>0</th>\n",
       "      <td>Dataset 1/The IQ-OTHNCCD lung cancer dataset/T...</td>\n",
       "      <td>Bengin cases</td>\n",
       "    </tr>\n",
       "    <tr>\n",
       "      <th>1</th>\n",
       "      <td>Dataset 1/The IQ-OTHNCCD lung cancer dataset/T...</td>\n",
       "      <td>Bengin cases</td>\n",
       "    </tr>\n",
       "    <tr>\n",
       "      <th>2</th>\n",
       "      <td>Dataset 1/The IQ-OTHNCCD lung cancer dataset/T...</td>\n",
       "      <td>Bengin cases</td>\n",
       "    </tr>\n",
       "    <tr>\n",
       "      <th>3</th>\n",
       "      <td>Dataset 1/The IQ-OTHNCCD lung cancer dataset/T...</td>\n",
       "      <td>Bengin cases</td>\n",
       "    </tr>\n",
       "    <tr>\n",
       "      <th>4</th>\n",
       "      <td>Dataset 1/The IQ-OTHNCCD lung cancer dataset/T...</td>\n",
       "      <td>Bengin cases</td>\n",
       "    </tr>\n",
       "    <tr>\n",
       "      <th>5</th>\n",
       "      <td>Dataset 1/The IQ-OTHNCCD lung cancer dataset/T...</td>\n",
       "      <td>Bengin cases</td>\n",
       "    </tr>\n",
       "    <tr>\n",
       "      <th>6</th>\n",
       "      <td>Dataset 1/The IQ-OTHNCCD lung cancer dataset/T...</td>\n",
       "      <td>Bengin cases</td>\n",
       "    </tr>\n",
       "    <tr>\n",
       "      <th>7</th>\n",
       "      <td>Dataset 1/The IQ-OTHNCCD lung cancer dataset/T...</td>\n",
       "      <td>Bengin cases</td>\n",
       "    </tr>\n",
       "    <tr>\n",
       "      <th>8</th>\n",
       "      <td>Dataset 1/The IQ-OTHNCCD lung cancer dataset/T...</td>\n",
       "      <td>Bengin cases</td>\n",
       "    </tr>\n",
       "    <tr>\n",
       "      <th>9</th>\n",
       "      <td>Dataset 1/The IQ-OTHNCCD lung cancer dataset/T...</td>\n",
       "      <td>Bengin cases</td>\n",
       "    </tr>\n",
       "    <tr>\n",
       "      <th>10</th>\n",
       "      <td>Dataset 1/The IQ-OTHNCCD lung cancer dataset/T...</td>\n",
       "      <td>Bengin cases</td>\n",
       "    </tr>\n",
       "    <tr>\n",
       "      <th>11</th>\n",
       "      <td>Dataset 1/The IQ-OTHNCCD lung cancer dataset/T...</td>\n",
       "      <td>Bengin cases</td>\n",
       "    </tr>\n",
       "    <tr>\n",
       "      <th>12</th>\n",
       "      <td>Dataset 1/The IQ-OTHNCCD lung cancer dataset/T...</td>\n",
       "      <td>Bengin cases</td>\n",
       "    </tr>\n",
       "    <tr>\n",
       "      <th>13</th>\n",
       "      <td>Dataset 1/The IQ-OTHNCCD lung cancer dataset/T...</td>\n",
       "      <td>Bengin cases</td>\n",
       "    </tr>\n",
       "    <tr>\n",
       "      <th>14</th>\n",
       "      <td>Dataset 1/The IQ-OTHNCCD lung cancer dataset/T...</td>\n",
       "      <td>Bengin cases</td>\n",
       "    </tr>\n",
       "    <tr>\n",
       "      <th>15</th>\n",
       "      <td>Dataset 1/The IQ-OTHNCCD lung cancer dataset/T...</td>\n",
       "      <td>Bengin cases</td>\n",
       "    </tr>\n",
       "    <tr>\n",
       "      <th>16</th>\n",
       "      <td>Dataset 1/The IQ-OTHNCCD lung cancer dataset/T...</td>\n",
       "      <td>Bengin cases</td>\n",
       "    </tr>\n",
       "    <tr>\n",
       "      <th>17</th>\n",
       "      <td>Dataset 1/The IQ-OTHNCCD lung cancer dataset/T...</td>\n",
       "      <td>Bengin cases</td>\n",
       "    </tr>\n",
       "    <tr>\n",
       "      <th>18</th>\n",
       "      <td>Dataset 1/The IQ-OTHNCCD lung cancer dataset/T...</td>\n",
       "      <td>Bengin cases</td>\n",
       "    </tr>\n",
       "    <tr>\n",
       "      <th>19</th>\n",
       "      <td>Dataset 1/The IQ-OTHNCCD lung cancer dataset/T...</td>\n",
       "      <td>Bengin cases</td>\n",
       "    </tr>\n",
       "    <tr>\n",
       "      <th>20</th>\n",
       "      <td>Dataset 1/The IQ-OTHNCCD lung cancer dataset/T...</td>\n",
       "      <td>Bengin cases</td>\n",
       "    </tr>\n",
       "    <tr>\n",
       "      <th>21</th>\n",
       "      <td>Dataset 1/The IQ-OTHNCCD lung cancer dataset/T...</td>\n",
       "      <td>Bengin cases</td>\n",
       "    </tr>\n",
       "    <tr>\n",
       "      <th>22</th>\n",
       "      <td>Dataset 1/The IQ-OTHNCCD lung cancer dataset/T...</td>\n",
       "      <td>Bengin cases</td>\n",
       "    </tr>\n",
       "    <tr>\n",
       "      <th>23</th>\n",
       "      <td>Dataset 1/The IQ-OTHNCCD lung cancer dataset/T...</td>\n",
       "      <td>Bengin cases</td>\n",
       "    </tr>\n",
       "    <tr>\n",
       "      <th>24</th>\n",
       "      <td>Dataset 1/The IQ-OTHNCCD lung cancer dataset/T...</td>\n",
       "      <td>Bengin cases</td>\n",
       "    </tr>\n",
       "    <tr>\n",
       "      <th>25</th>\n",
       "      <td>Dataset 1/The IQ-OTHNCCD lung cancer dataset/T...</td>\n",
       "      <td>Bengin cases</td>\n",
       "    </tr>\n",
       "    <tr>\n",
       "      <th>26</th>\n",
       "      <td>Dataset 1/The IQ-OTHNCCD lung cancer dataset/T...</td>\n",
       "      <td>Bengin cases</td>\n",
       "    </tr>\n",
       "    <tr>\n",
       "      <th>27</th>\n",
       "      <td>Dataset 1/The IQ-OTHNCCD lung cancer dataset/T...</td>\n",
       "      <td>Bengin cases</td>\n",
       "    </tr>\n",
       "    <tr>\n",
       "      <th>28</th>\n",
       "      <td>Dataset 1/The IQ-OTHNCCD lung cancer dataset/T...</td>\n",
       "      <td>Bengin cases</td>\n",
       "    </tr>\n",
       "    <tr>\n",
       "      <th>29</th>\n",
       "      <td>Dataset 1/The IQ-OTHNCCD lung cancer dataset/T...</td>\n",
       "      <td>Bengin cases</td>\n",
       "    </tr>\n",
       "    <tr>\n",
       "      <th>30</th>\n",
       "      <td>Dataset 1/The IQ-OTHNCCD lung cancer dataset/T...</td>\n",
       "      <td>Bengin cases</td>\n",
       "    </tr>\n",
       "    <tr>\n",
       "      <th>31</th>\n",
       "      <td>Dataset 1/The IQ-OTHNCCD lung cancer dataset/T...</td>\n",
       "      <td>Bengin cases</td>\n",
       "    </tr>\n",
       "    <tr>\n",
       "      <th>32</th>\n",
       "      <td>Dataset 1/The IQ-OTHNCCD lung cancer dataset/T...</td>\n",
       "      <td>Bengin cases</td>\n",
       "    </tr>\n",
       "    <tr>\n",
       "      <th>33</th>\n",
       "      <td>Dataset 1/The IQ-OTHNCCD lung cancer dataset/T...</td>\n",
       "      <td>Bengin cases</td>\n",
       "    </tr>\n",
       "    <tr>\n",
       "      <th>34</th>\n",
       "      <td>Dataset 1/The IQ-OTHNCCD lung cancer dataset/T...</td>\n",
       "      <td>Bengin cases</td>\n",
       "    </tr>\n",
       "    <tr>\n",
       "      <th>35</th>\n",
       "      <td>Dataset 1/The IQ-OTHNCCD lung cancer dataset/T...</td>\n",
       "      <td>Bengin cases</td>\n",
       "    </tr>\n",
       "    <tr>\n",
       "      <th>36</th>\n",
       "      <td>Dataset 1/The IQ-OTHNCCD lung cancer dataset/T...</td>\n",
       "      <td>Bengin cases</td>\n",
       "    </tr>\n",
       "    <tr>\n",
       "      <th>37</th>\n",
       "      <td>Dataset 1/The IQ-OTHNCCD lung cancer dataset/T...</td>\n",
       "      <td>Bengin cases</td>\n",
       "    </tr>\n",
       "    <tr>\n",
       "      <th>38</th>\n",
       "      <td>Dataset 1/The IQ-OTHNCCD lung cancer dataset/T...</td>\n",
       "      <td>Bengin cases</td>\n",
       "    </tr>\n",
       "    <tr>\n",
       "      <th>39</th>\n",
       "      <td>Dataset 1/The IQ-OTHNCCD lung cancer dataset/T...</td>\n",
       "      <td>Bengin cases</td>\n",
       "    </tr>\n",
       "    <tr>\n",
       "      <th>40</th>\n",
       "      <td>Dataset 1/The IQ-OTHNCCD lung cancer dataset/T...</td>\n",
       "      <td>Bengin cases</td>\n",
       "    </tr>\n",
       "    <tr>\n",
       "      <th>41</th>\n",
       "      <td>Dataset 1/The IQ-OTHNCCD lung cancer dataset/T...</td>\n",
       "      <td>Bengin cases</td>\n",
       "    </tr>\n",
       "    <tr>\n",
       "      <th>42</th>\n",
       "      <td>Dataset 1/The IQ-OTHNCCD lung cancer dataset/T...</td>\n",
       "      <td>Bengin cases</td>\n",
       "    </tr>\n",
       "    <tr>\n",
       "      <th>43</th>\n",
       "      <td>Dataset 1/The IQ-OTHNCCD lung cancer dataset/T...</td>\n",
       "      <td>Bengin cases</td>\n",
       "    </tr>\n",
       "    <tr>\n",
       "      <th>44</th>\n",
       "      <td>Dataset 1/The IQ-OTHNCCD lung cancer dataset/T...</td>\n",
       "      <td>Bengin cases</td>\n",
       "    </tr>\n",
       "    <tr>\n",
       "      <th>45</th>\n",
       "      <td>Dataset 1/The IQ-OTHNCCD lung cancer dataset/T...</td>\n",
       "      <td>Bengin cases</td>\n",
       "    </tr>\n",
       "    <tr>\n",
       "      <th>46</th>\n",
       "      <td>Dataset 1/The IQ-OTHNCCD lung cancer dataset/T...</td>\n",
       "      <td>Bengin cases</td>\n",
       "    </tr>\n",
       "    <tr>\n",
       "      <th>47</th>\n",
       "      <td>Dataset 1/The IQ-OTHNCCD lung cancer dataset/T...</td>\n",
       "      <td>Bengin cases</td>\n",
       "    </tr>\n",
       "    <tr>\n",
       "      <th>48</th>\n",
       "      <td>Dataset 1/The IQ-OTHNCCD lung cancer dataset/T...</td>\n",
       "      <td>Bengin cases</td>\n",
       "    </tr>\n",
       "    <tr>\n",
       "      <th>49</th>\n",
       "      <td>Dataset 1/The IQ-OTHNCCD lung cancer dataset/T...</td>\n",
       "      <td>Bengin cases</td>\n",
       "    </tr>\n",
       "  </tbody>\n",
       "</table>\n",
       "</div>"
      ],
      "text/plain": [
       "                                           image_path   image_label\n",
       "0   Dataset 1/The IQ-OTHNCCD lung cancer dataset/T...  Bengin cases\n",
       "1   Dataset 1/The IQ-OTHNCCD lung cancer dataset/T...  Bengin cases\n",
       "2   Dataset 1/The IQ-OTHNCCD lung cancer dataset/T...  Bengin cases\n",
       "3   Dataset 1/The IQ-OTHNCCD lung cancer dataset/T...  Bengin cases\n",
       "4   Dataset 1/The IQ-OTHNCCD lung cancer dataset/T...  Bengin cases\n",
       "5   Dataset 1/The IQ-OTHNCCD lung cancer dataset/T...  Bengin cases\n",
       "6   Dataset 1/The IQ-OTHNCCD lung cancer dataset/T...  Bengin cases\n",
       "7   Dataset 1/The IQ-OTHNCCD lung cancer dataset/T...  Bengin cases\n",
       "8   Dataset 1/The IQ-OTHNCCD lung cancer dataset/T...  Bengin cases\n",
       "9   Dataset 1/The IQ-OTHNCCD lung cancer dataset/T...  Bengin cases\n",
       "10  Dataset 1/The IQ-OTHNCCD lung cancer dataset/T...  Bengin cases\n",
       "11  Dataset 1/The IQ-OTHNCCD lung cancer dataset/T...  Bengin cases\n",
       "12  Dataset 1/The IQ-OTHNCCD lung cancer dataset/T...  Bengin cases\n",
       "13  Dataset 1/The IQ-OTHNCCD lung cancer dataset/T...  Bengin cases\n",
       "14  Dataset 1/The IQ-OTHNCCD lung cancer dataset/T...  Bengin cases\n",
       "15  Dataset 1/The IQ-OTHNCCD lung cancer dataset/T...  Bengin cases\n",
       "16  Dataset 1/The IQ-OTHNCCD lung cancer dataset/T...  Bengin cases\n",
       "17  Dataset 1/The IQ-OTHNCCD lung cancer dataset/T...  Bengin cases\n",
       "18  Dataset 1/The IQ-OTHNCCD lung cancer dataset/T...  Bengin cases\n",
       "19  Dataset 1/The IQ-OTHNCCD lung cancer dataset/T...  Bengin cases\n",
       "20  Dataset 1/The IQ-OTHNCCD lung cancer dataset/T...  Bengin cases\n",
       "21  Dataset 1/The IQ-OTHNCCD lung cancer dataset/T...  Bengin cases\n",
       "22  Dataset 1/The IQ-OTHNCCD lung cancer dataset/T...  Bengin cases\n",
       "23  Dataset 1/The IQ-OTHNCCD lung cancer dataset/T...  Bengin cases\n",
       "24  Dataset 1/The IQ-OTHNCCD lung cancer dataset/T...  Bengin cases\n",
       "25  Dataset 1/The IQ-OTHNCCD lung cancer dataset/T...  Bengin cases\n",
       "26  Dataset 1/The IQ-OTHNCCD lung cancer dataset/T...  Bengin cases\n",
       "27  Dataset 1/The IQ-OTHNCCD lung cancer dataset/T...  Bengin cases\n",
       "28  Dataset 1/The IQ-OTHNCCD lung cancer dataset/T...  Bengin cases\n",
       "29  Dataset 1/The IQ-OTHNCCD lung cancer dataset/T...  Bengin cases\n",
       "30  Dataset 1/The IQ-OTHNCCD lung cancer dataset/T...  Bengin cases\n",
       "31  Dataset 1/The IQ-OTHNCCD lung cancer dataset/T...  Bengin cases\n",
       "32  Dataset 1/The IQ-OTHNCCD lung cancer dataset/T...  Bengin cases\n",
       "33  Dataset 1/The IQ-OTHNCCD lung cancer dataset/T...  Bengin cases\n",
       "34  Dataset 1/The IQ-OTHNCCD lung cancer dataset/T...  Bengin cases\n",
       "35  Dataset 1/The IQ-OTHNCCD lung cancer dataset/T...  Bengin cases\n",
       "36  Dataset 1/The IQ-OTHNCCD lung cancer dataset/T...  Bengin cases\n",
       "37  Dataset 1/The IQ-OTHNCCD lung cancer dataset/T...  Bengin cases\n",
       "38  Dataset 1/The IQ-OTHNCCD lung cancer dataset/T...  Bengin cases\n",
       "39  Dataset 1/The IQ-OTHNCCD lung cancer dataset/T...  Bengin cases\n",
       "40  Dataset 1/The IQ-OTHNCCD lung cancer dataset/T...  Bengin cases\n",
       "41  Dataset 1/The IQ-OTHNCCD lung cancer dataset/T...  Bengin cases\n",
       "42  Dataset 1/The IQ-OTHNCCD lung cancer dataset/T...  Bengin cases\n",
       "43  Dataset 1/The IQ-OTHNCCD lung cancer dataset/T...  Bengin cases\n",
       "44  Dataset 1/The IQ-OTHNCCD lung cancer dataset/T...  Bengin cases\n",
       "45  Dataset 1/The IQ-OTHNCCD lung cancer dataset/T...  Bengin cases\n",
       "46  Dataset 1/The IQ-OTHNCCD lung cancer dataset/T...  Bengin cases\n",
       "47  Dataset 1/The IQ-OTHNCCD lung cancer dataset/T...  Bengin cases\n",
       "48  Dataset 1/The IQ-OTHNCCD lung cancer dataset/T...  Bengin cases\n",
       "49  Dataset 1/The IQ-OTHNCCD lung cancer dataset/T...  Bengin cases"
      ]
     },
     "execution_count": 4,
     "metadata": {},
     "output_type": "execute_result"
    }
   ],
   "source": [
    "img_path = []\n",
    "class_labels = []\n",
    "for i, dir_list in enumerate(pc_path_list):\n",
    "    name_img = os.listdir(dir_list)\n",
    "    for name_file in name_img:\n",
    "        img = os.path.join(dir_list,name_file)\n",
    "        img_path.append(img)\n",
    "        class_labels.append(image_classes[i])\n",
    "\n",
    "df = pd.DataFrame({\"image_path\" : img_path,\n",
    "                  \"image_label\" : class_labels})\n",
    "\n",
    "df.head(50)"
   ]
  },
  {
   "cell_type": "markdown",
   "metadata": {},
   "source": [
    "Data Visualization"
   ]
  },
  {
   "cell_type": "code",
   "execution_count": 5,
   "metadata": {},
   "outputs": [
    {
     "data": {
      "image/png": "[encoded data removed]",
      "text/plain": [
       "<Figure size 1400x1400 with 7 Axes>"
      ]
     },
     "metadata": {},
     "output_type": "display_data"
    },
    {
     "data": {
      "image/png": "[encoded data removed]",
      "text/plain": [
       "<Figure size 1400x1400 with 7 Axes>"
      ]
     },
     "metadata": {},
     "output_type": "display_data"
    },
    {
     "data": {
      "image/png": "[encoded data removed]",
      "text/plain": [
       "<Figure size 1400x1400 with 7 Axes>"
      ]
     },
     "metadata": {},
     "output_type": "display_data"
    }
   ],
   "source": [
    "for category, group in df.groupby(\"image_label\"):\n",
    "    fig, ax = plt.subplots(1,7, figsize = (14,14))\n",
    "    ax = ax.ravel()\n",
    "    for i, (_,r) in enumerate(group.sample(7).iterrows()):\n",
    "        img = cv2.imread(r.image_path)\n",
    "        ax[i].imshow(img)\n",
    "        ax[i].axis(\"off\")\n",
    "        ax[i].set_title(r.image_label)\n",
    "    plt.show()"
   ]
  },
  {
   "cell_type": "code",
   "execution_count": 6,
   "metadata": {},
   "outputs": [
    {
     "data": {
      "text/html": [
       "        <script type=\"text/javascript\">\n",
       "        window.PlotlyConfig = {MathJaxConfig: 'local'};\n",
       "        if (window.MathJax && window.MathJax.Hub && window.MathJax.Hub.Config) {window.MathJax.Hub.Config({SVG: {font: \"STIX-Web\"}});}\n",
       "        if (typeof require !== 'undefined') {\n",
       "        require.undef(\"plotly\");\n",
       "        requirejs.config({\n",
       "            paths: {\n",
       "                'plotly': ['https://cdn.plot.ly/plotly-2.20.0.min']\n",
       "            }\n",
       "        });\n",
       "        require(['plotly'], function(Plotly) {\n",
       "            window._Plotly = Plotly;\n",
       "        });\n",
       "        }\n",
       "        </script>\n",
       "        "
      ]
     },
     "metadata": {},
     "output_type": "display_data"
    }
   ],
   "source": [
    "from plotly.offline import init_notebook_mode, iplot\n",
    "init_notebook_mode(connected=True)"
   ]
  },
  {
   "cell_type": "code",
   "execution_count": 7,
   "metadata": {},
   "outputs": [
    {
     "data": {
      "application/vnd.plotly.v1+json": {
       "config": {
        "plotlyServerURL": "https://plot.ly"
       },
       "data": [
        {
         "alignmentgroup": "True",
         "bingroup": "x",
         "histfunc": "sum",
         "hovertemplate": "image_label=%{x}<br>sum of count=%{y}<extra></extra>",
         "legendgroup": "",
         "marker": {
          "color": "#636efa",
          "pattern": {
           "shape": ""
          }
         },
         "name": "",
         "offsetgroup": "",
         "orientation": "v",
         "showlegend": false,
         "type": "histogram",
         "x": [
          "Malignant cases",
          "Normal cases",
          "Bengin cases"
         ],
         "xaxis": "x",
         "y": [
          561,
          416,
          120
         ],
         "yaxis": "y"
        }
       ],
       "layout": {
        "barmode": "relative",
        "legend": {
         "tracegroupgap": 0
        },
        "margin": {
         "t": 60
        },
        "template": {
         "data": {
          "bar": [
           {
            "error_x": {
             "color": "#2a3f5f"
            },
            "error_y": {
             "color": "#2a3f5f"
            },
            "marker": {
             "line": {
              "color": "#E5ECF6",
              "width": 0.5
             },
             "pattern": {
              "fillmode": "overlay",
              "size": 10,
              "solidity": 0.2
             }
            },
            "type": "bar"
           }
          ],
          "barpolar": [
           {
            "marker": {
             "line": {
              "color": "#E5ECF6",
              "width": 0.5
             },
             "pattern": {
              "fillmode": "overlay",
              "size": 10,
              "solidity": 0.2
             }
            },
            "type": "barpolar"
           }
          ],
          "carpet": [
           {
            "aaxis": {
             "endlinecolor": "#2a3f5f",
             "gridcolor": "white",
             "linecolor": "white",
             "minorgridcolor": "white",
             "startlinecolor": "#2a3f5f"
            },
            "baxis": {
             "endlinecolor": "#2a3f5f",
             "gridcolor": "white",
             "linecolor": "white",
             "minorgridcolor": "white",
             "startlinecolor": "#2a3f5f"
            },
            "type": "carpet"
           }
          ],
          "choropleth": [
           {
            "colorbar": {
             "outlinewidth": 0,
             "ticks": ""
            },
            "type": "choropleth"
           }
          ],
          "contour": [
           {
            "colorbar": {
             "outlinewidth": 0,
             "ticks": ""
            },
            "colorscale": [
             [
              0,
              "#0d0887"
             ],
             [
              0.1111111111111111,
              "#46039f"
             ],
             [
              0.2222222222222222,
              "#7201a8"
             ],
             [
              0.3333333333333333,
              "#9c179e"
             ],
             [
              0.4444444444444444,
              "#bd3786"
             ],
             [
              0.5555555555555556,
              "#d8576b"
             ],
             [
              0.6666666666666666,
              "#ed7953"
             ],
             [
              0.7777777777777778,
              "#fb9f3a"
             ],
             [
              0.8888888888888888,
              "#fdca26"
             ],
             [
              1,
              "#f0f921"
             ]
            ],
            "type": "contour"
           }
          ],
          "contourcarpet": [
           {
            "colorbar": {
             "outlinewidth": 0,
             "ticks": ""
            },
            "type": "contourcarpet"
           }
          ],
          "heatmap": [
           {
            "colorbar": {
             "outlinewidth": 0,
             "ticks": ""
            },
            "colorscale": [
             [
              0,
              "#0d0887"
             ],
             [
              0.1111111111111111,
              "#46039f"
             ],
             [
              0.2222222222222222,
              "#7201a8"
             ],
             [
              0.3333333333333333,
              "#9c179e"
             ],
             [
              0.4444444444444444,
              "#bd3786"
             ],
             [
              0.5555555555555556,
              "#d8576b"
             ],
             [
              0.6666666666666666,
              "#ed7953"
             ],
             [
              0.7777777777777778,
              "#fb9f3a"
             ],
             [
              0.8888888888888888,
              "#fdca26"
             ],
             [
              1,
              "#f0f921"
             ]
            ],
            "type": "heatmap"
           }
          ],
          "heatmapgl": [
           {
            "colorbar": {
             "outlinewidth": 0,
             "ticks": ""
            },
            "colorscale": [
             [
              0,
              "#0d0887"
             ],
             [
              0.1111111111111111,
              "#46039f"
             ],
             [
              0.2222222222222222,
              "#7201a8"
             ],
             [
              0.3333333333333333,
              "#9c179e"
             ],
             [
              0.4444444444444444,
              "#bd3786"
             ],
             [
              0.5555555555555556,
              "#d8576b"
             ],
             [
              0.6666666666666666,
              "#ed7953"
             ],
             [
              0.7777777777777778,
              "#fb9f3a"
             ],
             [
              0.8888888888888888,
              "#fdca26"
             ],
             [
              1,
              "#f0f921"
             ]
            ],
            "type": "heatmapgl"
           }
          ],
          "histogram": [
           {
            "marker": {
             "pattern": {
              "fillmode": "overlay",
              "size": 10,
              "solidity": 0.2
             }
            },
            "type": "histogram"
           }
          ],
          "histogram2d": [
           {
            "colorbar": {
             "outlinewidth": 0,
             "ticks": ""
            },
            "colorscale": [
             [
              0,
              "#0d0887"
             ],
             [
              0.1111111111111111,
              "#46039f"
             ],
             [
              0.2222222222222222,
              "#7201a8"
             ],
             [
              0.3333333333333333,
              "#9c179e"
             ],
             [
              0.4444444444444444,
              "#bd3786"
             ],
             [
              0.5555555555555556,
              "#d8576b"
             ],
             [
              0.6666666666666666,
              "#ed7953"
             ],
             [
              0.7777777777777778,
              "#fb9f3a"
             ],
             [
              0.8888888888888888,
              "#fdca26"
             ],
             [
              1,
              "#f0f921"
             ]
            ],
            "type": "histogram2d"
           }
          ],
          "histogram2dcontour": [
           {
            "colorbar": {
             "outlinewidth": 0,
             "ticks": ""
            },
            "colorscale": [
             [
              0,
              "#0d0887"
             ],
             [
              0.1111111111111111,
              "#46039f"
             ],
             [
              0.2222222222222222,
              "#7201a8"
             ],
             [
              0.3333333333333333,
              "#9c179e"
             ],
             [
              0.4444444444444444,
              "#bd3786"
             ],
             [
              0.5555555555555556,
              "#d8576b"
             ],
             [
              0.6666666666666666,
              "#ed7953"
             ],
             [
              0.7777777777777778,
              "#fb9f3a"
             ],
             [
              0.8888888888888888,
              "#fdca26"
             ],
             [
              1,
              "#f0f921"
             ]
            ],
            "type": "histogram2dcontour"
           }
          ],
          "mesh3d": [
           {
            "colorbar": {
             "outlinewidth": 0,
             "ticks": ""
            },
            "type": "mesh3d"
           }
          ],
          "parcoords": [
           {
            "line": {
             "colorbar": {
              "outlinewidth": 0,
              "ticks": ""
             }
            },
            "type": "parcoords"
           }
          ],
          "pie": [
           {
            "automargin": true,
            "type": "pie"
           }
          ],
          "scatter": [
           {
            "fillpattern": {
             "fillmode": "overlay",
             "size": 10,
             "solidity": 0.2
            },
            "type": "scatter"
           }
          ],
          "scatter3d": [
           {
            "line": {
             "colorbar": {
              "outlinewidth": 0,
              "ticks": ""
             }
            },
            "marker": {
             "colorbar": {
              "outlinewidth": 0,
              "ticks": ""
             }
            },
            "type": "scatter3d"
           }
          ],
          "scattercarpet": [
           {
            "marker": {
             "colorbar": {
              "outlinewidth": 0,
              "ticks": ""
             }
            },
            "type": "scattercarpet"
           }
          ],
          "scattergeo": [
           {
            "marker": {
             "colorbar": {
              "outlinewidth": 0,
              "ticks": ""
             }
            },
            "type": "scattergeo"
           }
          ],
          "scattergl": [
           {
            "marker": {
             "colorbar": {
              "outlinewidth": 0,
              "ticks": ""
             }
            },
            "type": "scattergl"
           }
          ],
          "scattermapbox": [
           {
            "marker": {
             "colorbar": {
              "outlinewidth": 0,
              "ticks": ""
             }
            },
            "type": "scattermapbox"
           }
          ],
          "scatterpolar": [
           {
            "marker": {
             "colorbar": {
              "outlinewidth": 0,
              "ticks": ""
             }
            },
            "type": "scatterpolar"
           }
          ],
          "scatterpolargl": [
           {
            "marker": {
             "colorbar": {
              "outlinewidth": 0,
              "ticks": ""
             }
            },
            "type": "scatterpolargl"
           }
          ],
          "scatterternary": [
           {
            "marker": {
             "colorbar": {
              "outlinewidth": 0,
              "ticks": ""
             }
            },
            "type": "scatterternary"
           }
          ],
          "surface": [
           {
            "colorbar": {
             "outlinewidth": 0,
             "ticks": ""
            },
            "colorscale": [
             [
              0,
              "#0d0887"
             ],
             [
              0.1111111111111111,
              "#46039f"
             ],
             [
              0.2222222222222222,
              "#7201a8"
             ],
             [
              0.3333333333333333,
              "#9c179e"
             ],
             [
              0.4444444444444444,
              "#bd3786"
             ],
             [
              0.5555555555555556,
              "#d8576b"
             ],
             [
              0.6666666666666666,
              "#ed7953"
             ],
             [
              0.7777777777777778,
              "#fb9f3a"
             ],
             [
              0.8888888888888888,
              "#fdca26"
             ],
             [
              1,
              "#f0f921"
             ]
            ],
            "type": "surface"
           }
          ],
          "table": [
           {
            "cells": {
             "fill": {
              "color": "#EBF0F8"
             },
             "line": {
              "color": "white"
             }
            },
            "header": {
             "fill": {
              "color": "#C8D4E3"
             },
             "line": {
              "color": "white"
             }
            },
            "type": "table"
           }
          ]
         },
         "layout": {
          "annotationdefaults": {
           "arrowcolor": "#2a3f5f",
           "arrowhead": 0,
           "arrowwidth": 1
          },
          "autotypenumbers": "strict",
          "coloraxis": {
           "colorbar": {
            "outlinewidth": 0,
            "ticks": ""
           }
          },
          "colorscale": {
           "diverging": [
            [
             0,
             "#8e0152"
            ],
            [
             0.1,
             "#c51b7d"
            ],
            [
             0.2,
             "#de77ae"
            ],
            [
             0.3,
             "#f1b6da"
            ],
            [
             0.4,
             "#fde0ef"
            ],
            [
             0.5,
             "#f7f7f7"
            ],
            [
             0.6,
             "#e6f5d0"
            ],
            [
             0.7,
             "#b8e186"
            ],
            [
             0.8,
             "#7fbc41"
            ],
            [
             0.9,
             "#4d9221"
            ],
            [
             1,
             "#276419"
            ]
           ],
           "sequential": [
            [
             0,
             "#0d0887"
            ],
            [
             0.1111111111111111,
             "#46039f"
            ],
            [
             0.2222222222222222,
             "#7201a8"
            ],
            [
             0.3333333333333333,
             "#9c179e"
            ],
            [
             0.4444444444444444,
             "#bd3786"
            ],
            [
             0.5555555555555556,
             "#d8576b"
            ],
            [
             0.6666666666666666,
             "#ed7953"
            ],
            [
             0.7777777777777778,
             "#fb9f3a"
            ],
            [
             0.8888888888888888,
             "#fdca26"
            ],
            [
             1,
             "#f0f921"
            ]
           ],
           "sequentialminus": [
            [
             0,
             "#0d0887"
            ],
            [
             0.1111111111111111,
             "#46039f"
            ],
            [
             0.2222222222222222,
             "#7201a8"
            ],
            [
             0.3333333333333333,
             "#9c179e"
            ],
            [
             0.4444444444444444,
             "#bd3786"
            ],
            [
             0.5555555555555556,
             "#d8576b"
            ],
            [
             0.6666666666666666,
             "#ed7953"
            ],
            [
             0.7777777777777778,
             "#fb9f3a"
            ],
            [
             0.8888888888888888,
             "#fdca26"
            ],
            [
             1,
             "#f0f921"
            ]
           ]
          },
          "colorway": [
           "#636efa",
           "#EF553B",
           "#00cc96",
           "#ab63fa",
           "#FFA15A",
           "#19d3f3",
           "#FF6692",
           "#B6E880",
           "#FF97FF",
           "#FECB52"
          ],
          "font": {
           "color": "#2a3f5f"
          },
          "geo": {
           "bgcolor": "white",
           "lakecolor": "white",
           "landcolor": "#E5ECF6",
           "showlakes": true,
           "showland": true,
           "subunitcolor": "white"
          },
          "hoverlabel": {
           "align": "left"
          },
          "hovermode": "closest",
          "mapbox": {
           "style": "light"
          },
          "paper_bgcolor": "white",
          "plot_bgcolor": "#E5ECF6",
          "polar": {
           "angularaxis": {
            "gridcolor": "white",
            "linecolor": "white",
            "ticks": ""
           },
           "bgcolor": "#E5ECF6",
           "radialaxis": {
            "gridcolor": "white",
            "linecolor": "white",
            "ticks": ""
           }
          },
          "scene": {
           "xaxis": {
            "backgroundcolor": "#E5ECF6",
            "gridcolor": "white",
            "gridwidth": 2,
            "linecolor": "white",
            "showbackground": true,
            "ticks": "",
            "zerolinecolor": "white"
           },
           "yaxis": {
            "backgroundcolor": "#E5ECF6",
            "gridcolor": "white",
            "gridwidth": 2,
            "linecolor": "white",
            "showbackground": true,
            "ticks": "",
            "zerolinecolor": "white"
           },
           "zaxis": {
            "backgroundcolor": "#E5ECF6",
            "gridcolor": "white",
            "gridwidth": 2,
            "linecolor": "white",
            "showbackground": true,
            "ticks": "",
            "zerolinecolor": "white"
           }
          },
          "shapedefaults": {
           "line": {
            "color": "#2a3f5f"
           }
          },
          "ternary": {
           "aaxis": {
            "gridcolor": "white",
            "linecolor": "white",
            "ticks": ""
           },
           "baxis": {
            "gridcolor": "white",
            "linecolor": "white",
            "ticks": ""
           },
           "bgcolor": "#E5ECF6",
           "caxis": {
            "gridcolor": "white",
            "linecolor": "white",
            "ticks": ""
           }
          },
          "title": {
           "x": 0.05
          },
          "xaxis": {
           "automargin": true,
           "gridcolor": "white",
           "linecolor": "white",
           "ticks": "",
           "title": {
            "standoff": 15
           },
           "zerolinecolor": "white",
           "zerolinewidth": 2
          },
          "yaxis": {
           "automargin": true,
           "gridcolor": "white",
           "linecolor": "white",
           "ticks": "",
           "title": {
            "standoff": 15
           },
           "zerolinecolor": "white",
           "zerolinewidth": 2
          }
         }
        },
        "xaxis": {
         "anchor": "y",
         "domain": [
          0,
          1
         ],
         "title": {
          "text": "image_label"
         }
        },
        "yaxis": {
         "anchor": "x",
         "domain": [
          0,
          1
         ],
         "title": {
          "text": "sum of count"
         }
        }
       }
      },
      "text/html": [
       "<div>                            <div id=\"9662d85b-f2d6-4541-a8bf-53c74b876fe9\" class=\"plotly-graph-div\" style=\"height:525px; width:100%;\"></div>            <script type=\"text/javascript\">                require([\"plotly\"], function(Plotly) {                    window.PLOTLYENV=window.PLOTLYENV || {};                                    if (document.getElementById(\"9662d85b-f2d6-4541-a8bf-53c74b876fe9\")) {                    Plotly.newPlot(                        \"9662d85b-f2d6-4541-a8bf-53c74b876fe9\",                        [{\"alignmentgroup\":\"True\",\"bingroup\":\"x\",\"histfunc\":\"sum\",\"hovertemplate\":\"image_label=%{x}<br>sum of count=%{y}<extra></extra>\",\"legendgroup\":\"\",\"marker\":{\"color\":\"#636efa\",\"pattern\":{\"shape\":\"\"}},\"name\":\"\",\"offsetgroup\":\"\",\"orientation\":\"v\",\"showlegend\":false,\"x\":[\"Malignant cases\",\"Normal cases\",\"Bengin cases\"],\"xaxis\":\"x\",\"y\":[561,416,120],\"yaxis\":\"y\",\"type\":\"histogram\"}],                        {\"template\":{\"data\":{\"histogram2dcontour\":[{\"type\":\"histogram2dcontour\",\"colorbar\":{\"outlinewidth\":0,\"ticks\":\"\"},\"colorscale\":[[0.0,\"#0d0887\"],[0.1111111111111111,\"#46039f\"],[0.2222222222222222,\"#7201a8\"],[0.3333333333333333,\"#9c179e\"],[0.4444444444444444,\"#bd3786\"],[0.5555555555555556,\"#d8576b\"],[0.6666666666666666,\"#ed7953\"],[0.7777777777777778,\"#fb9f3a\"],[0.8888888888888888,\"#fdca26\"],[1.0,\"#f0f921\"]]}],\"choropleth\":[{\"type\":\"choropleth\",\"colorbar\":{\"outlinewidth\":0,\"ticks\":\"\"}}],\"histogram2d\":[{\"type\":\"histogram2d\",\"colorbar\":{\"outlinewidth\":0,\"ticks\":\"\"},\"colorscale\":[[0.0,\"#0d0887\"],[0.1111111111111111,\"#46039f\"],[0.2222222222222222,\"#7201a8\"],[0.3333333333333333,\"#9c179e\"],[0.4444444444444444,\"#bd3786\"],[0.5555555555555556,\"#d8576b\"],[0.6666666666666666,\"#ed7953\"],[0.7777777777777778,\"#fb9f3a\"],[0.8888888888888888,\"#fdca26\"],[1.0,\"#f0f921\"]]}],\"heatmap\":[{\"type\":\"heatmap\",\"colorbar\":{\"outlinewidth\":0,\"ticks\":\"\"},\"colorscale\":[[0.0,\"#0d0887\"],[0.1111111111111111,\"#46039f\"],[0.2222222222222222,\"#7201a8\"],[0.3333333333333333,\"#9c179e\"],[0.4444444444444444,\"#bd3786\"],[0.5555555555555556,\"#d8576b\"],[0.6666666666666666,\"#ed7953\"],[0.7777777777777778,\"#fb9f3a\"],[0.8888888888888888,\"#fdca26\"],[1.0,\"#f0f921\"]]}],\"heatmapgl\":[{\"type\":\"heatmapgl\",\"colorbar\":{\"outlinewidth\":0,\"ticks\":\"\"},\"colorscale\":[[0.0,\"#0d0887\"],[0.1111111111111111,\"#46039f\"],[0.2222222222222222,\"#7201a8\"],[0.3333333333333333,\"#9c179e\"],[0.4444444444444444,\"#bd3786\"],[0.5555555555555556,\"#d8576b\"],[0.6666666666666666,\"#ed7953\"],[0.7777777777777778,\"#fb9f3a\"],[0.8888888888888888,\"#fdca26\"],[1.0,\"#f0f921\"]]}],\"contourcarpet\":[{\"type\":\"contourcarpet\",\"colorbar\":{\"outlinewidth\":0,\"ticks\":\"\"}}],\"contour\":[{\"type\":\"contour\",\"colorbar\":{\"outlinewidth\":0,\"ticks\":\"\"},\"colorscale\":[[0.0,\"#0d0887\"],[0.1111111111111111,\"#46039f\"],[0.2222222222222222,\"#7201a8\"],[0.3333333333333333,\"#9c179e\"],[0.4444444444444444,\"#bd3786\"],[0.5555555555555556,\"#d8576b\"],[0.6666666666666666,\"#ed7953\"],[0.7777777777777778,\"#fb9f3a\"],[0.8888888888888888,\"#fdca26\"],[1.0,\"#f0f921\"]]}],\"surface\":[{\"type\":\"surface\",\"colorbar\":{\"outlinewidth\":0,\"ticks\":\"\"},\"colorscale\":[[0.0,\"#0d0887\"],[0.1111111111111111,\"#46039f\"],[0.2222222222222222,\"#7201a8\"],[0.3333333333333333,\"#9c179e\"],[0.4444444444444444,\"#bd3786\"],[0.5555555555555556,\"#d8576b\"],[0.6666666666666666,\"#ed7953\"],[0.7777777777777778,\"#fb9f3a\"],[0.8888888888888888,\"#fdca26\"],[1.0,\"#f0f921\"]]}],\"mesh3d\":[{\"type\":\"mesh3d\",\"colorbar\":{\"outlinewidth\":0,\"ticks\":\"\"}}],\"scatter\":[{\"fillpattern\":{\"fillmode\":\"overlay\",\"size\":10,\"solidity\":0.2},\"type\":\"scatter\"}],\"parcoords\":[{\"type\":\"parcoords\",\"line\":{\"colorbar\":{\"outlinewidth\":0,\"ticks\":\"\"}}}],\"scatterpolargl\":[{\"type\":\"scatterpolargl\",\"marker\":{\"colorbar\":{\"outlinewidth\":0,\"ticks\":\"\"}}}],\"bar\":[{\"error_x\":{\"color\":\"#2a3f5f\"},\"error_y\":{\"color\":\"#2a3f5f\"},\"marker\":{\"line\":{\"color\":\"#E5ECF6\",\"width\":0.5},\"pattern\":{\"fillmode\":\"overlay\",\"size\":10,\"solidity\":0.2}},\"type\":\"bar\"}],\"scattergeo\":[{\"type\":\"scattergeo\",\"marker\":{\"colorbar\":{\"outlinewidth\":0,\"ticks\":\"\"}}}],\"scatterpolar\":[{\"type\":\"scatterpolar\",\"marker\":{\"colorbar\":{\"outlinewidth\":0,\"ticks\":\"\"}}}],\"histogram\":[{\"marker\":{\"pattern\":{\"fillmode\":\"overlay\",\"size\":10,\"solidity\":0.2}},\"type\":\"histogram\"}],\"scattergl\":[{\"type\":\"scattergl\",\"marker\":{\"colorbar\":{\"outlinewidth\":0,\"ticks\":\"\"}}}],\"scatter3d\":[{\"type\":\"scatter3d\",\"line\":{\"colorbar\":{\"outlinewidth\":0,\"ticks\":\"\"}},\"marker\":{\"colorbar\":{\"outlinewidth\":0,\"ticks\":\"\"}}}],\"scattermapbox\":[{\"type\":\"scattermapbox\",\"marker\":{\"colorbar\":{\"outlinewidth\":0,\"ticks\":\"\"}}}],\"scatterternary\":[{\"type\":\"scatterternary\",\"marker\":{\"colorbar\":{\"outlinewidth\":0,\"ticks\":\"\"}}}],\"scattercarpet\":[{\"type\":\"scattercarpet\",\"marker\":{\"colorbar\":{\"outlinewidth\":0,\"ticks\":\"\"}}}],\"carpet\":[{\"aaxis\":{\"endlinecolor\":\"#2a3f5f\",\"gridcolor\":\"white\",\"linecolor\":\"white\",\"minorgridcolor\":\"white\",\"startlinecolor\":\"#2a3f5f\"},\"baxis\":{\"endlinecolor\":\"#2a3f5f\",\"gridcolor\":\"white\",\"linecolor\":\"white\",\"minorgridcolor\":\"white\",\"startlinecolor\":\"#2a3f5f\"},\"type\":\"carpet\"}],\"table\":[{\"cells\":{\"fill\":{\"color\":\"#EBF0F8\"},\"line\":{\"color\":\"white\"}},\"header\":{\"fill\":{\"color\":\"#C8D4E3\"},\"line\":{\"color\":\"white\"}},\"type\":\"table\"}],\"barpolar\":[{\"marker\":{\"line\":{\"color\":\"#E5ECF6\",\"width\":0.5},\"pattern\":{\"fillmode\":\"overlay\",\"size\":10,\"solidity\":0.2}},\"type\":\"barpolar\"}],\"pie\":[{\"automargin\":true,\"type\":\"pie\"}]},\"layout\":{\"autotypenumbers\":\"strict\",\"colorway\":[\"#636efa\",\"#EF553B\",\"#00cc96\",\"#ab63fa\",\"#FFA15A\",\"#19d3f3\",\"#FF6692\",\"#B6E880\",\"#FF97FF\",\"#FECB52\"],\"font\":{\"color\":\"#2a3f5f\"},\"hovermode\":\"closest\",\"hoverlabel\":{\"align\":\"left\"},\"paper_bgcolor\":\"white\",\"plot_bgcolor\":\"#E5ECF6\",\"polar\":{\"bgcolor\":\"#E5ECF6\",\"angularaxis\":{\"gridcolor\":\"white\",\"linecolor\":\"white\",\"ticks\":\"\"},\"radialaxis\":{\"gridcolor\":\"white\",\"linecolor\":\"white\",\"ticks\":\"\"}},\"ternary\":{\"bgcolor\":\"#E5ECF6\",\"aaxis\":{\"gridcolor\":\"white\",\"linecolor\":\"white\",\"ticks\":\"\"},\"baxis\":{\"gridcolor\":\"white\",\"linecolor\":\"white\",\"ticks\":\"\"},\"caxis\":{\"gridcolor\":\"white\",\"linecolor\":\"white\",\"ticks\":\"\"}},\"coloraxis\":{\"colorbar\":{\"outlinewidth\":0,\"ticks\":\"\"}},\"colorscale\":{\"sequential\":[[0.0,\"#0d0887\"],[0.1111111111111111,\"#46039f\"],[0.2222222222222222,\"#7201a8\"],[0.3333333333333333,\"#9c179e\"],[0.4444444444444444,\"#bd3786\"],[0.5555555555555556,\"#d8576b\"],[0.6666666666666666,\"#ed7953\"],[0.7777777777777778,\"#fb9f3a\"],[0.8888888888888888,\"#fdca26\"],[1.0,\"#f0f921\"]],\"sequentialminus\":[[0.0,\"#0d0887\"],[0.1111111111111111,\"#46039f\"],[0.2222222222222222,\"#7201a8\"],[0.3333333333333333,\"#9c179e\"],[0.4444444444444444,\"#bd3786\"],[0.5555555555555556,\"#d8576b\"],[0.6666666666666666,\"#ed7953\"],[0.7777777777777778,\"#fb9f3a\"],[0.8888888888888888,\"#fdca26\"],[1.0,\"#f0f921\"]],\"diverging\":[[0,\"#8e0152\"],[0.1,\"#c51b7d\"],[0.2,\"#de77ae\"],[0.3,\"#f1b6da\"],[0.4,\"#fde0ef\"],[0.5,\"#f7f7f7\"],[0.6,\"#e6f5d0\"],[0.7,\"#b8e186\"],[0.8,\"#7fbc41\"],[0.9,\"#4d9221\"],[1,\"#276419\"]]},\"xaxis\":{\"gridcolor\":\"white\",\"linecolor\":\"white\",\"ticks\":\"\",\"title\":{\"standoff\":15},\"zerolinecolor\":\"white\",\"automargin\":true,\"zerolinewidth\":2},\"yaxis\":{\"gridcolor\":\"white\",\"linecolor\":\"white\",\"ticks\":\"\",\"title\":{\"standoff\":15},\"zerolinecolor\":\"white\",\"automargin\":true,\"zerolinewidth\":2},\"scene\":{\"xaxis\":{\"backgroundcolor\":\"#E5ECF6\",\"gridcolor\":\"white\",\"linecolor\":\"white\",\"showbackground\":true,\"ticks\":\"\",\"zerolinecolor\":\"white\",\"gridwidth\":2},\"yaxis\":{\"backgroundcolor\":\"#E5ECF6\",\"gridcolor\":\"white\",\"linecolor\":\"white\",\"showbackground\":true,\"ticks\":\"\",\"zerolinecolor\":\"white\",\"gridwidth\":2},\"zaxis\":{\"backgroundcolor\":\"#E5ECF6\",\"gridcolor\":\"white\",\"linecolor\":\"white\",\"showbackground\":true,\"ticks\":\"\",\"zerolinecolor\":\"white\",\"gridwidth\":2}},\"shapedefaults\":{\"line\":{\"color\":\"#2a3f5f\"}},\"annotationdefaults\":{\"arrowcolor\":\"#2a3f5f\",\"arrowhead\":0,\"arrowwidth\":1},\"geo\":{\"bgcolor\":\"white\",\"landcolor\":\"#E5ECF6\",\"subunitcolor\":\"white\",\"showland\":true,\"showlakes\":true,\"lakecolor\":\"white\"},\"title\":{\"x\":0.05},\"mapbox\":{\"style\":\"light\"}}},\"xaxis\":{\"anchor\":\"y\",\"domain\":[0.0,1.0],\"title\":{\"text\":\"image_label\"}},\"yaxis\":{\"anchor\":\"x\",\"domain\":[0.0,1.0],\"title\":{\"text\":\"sum of count\"}},\"legend\":{\"tracegroupgap\":0},\"margin\":{\"t\":60},\"barmode\":\"relative\"},                        {\"responsive\": true}                    ).then(function(){\n",
       "                            \n",
       "var gd = document.getElementById('9662d85b-f2d6-4541-a8bf-53c74b876fe9');\n",
       "var x = new MutationObserver(function (mutations, observer) {{\n",
       "        var display = window.getComputedStyle(gd).display;\n",
       "        if (!display || display === 'none') {{\n",
       "            console.log([gd, 'removed!']);\n",
       "            Plotly.purge(gd);\n",
       "            observer.disconnect();\n",
       "        }}\n",
       "}});\n",
       "\n",
       "// Listen for the removal of the full notebook cells\n",
       "var notebookContainer = gd.closest('#notebook-container');\n",
       "if (notebookContainer) {{\n",
       "    x.observe(notebookContainer, {childList: true});\n",
       "}}\n",
       "\n",
       "// Listen for the clearing of the current output cell\n",
       "var outputEl = gd.closest('.output');\n",
       "if (outputEl) {{\n",
       "    x.observe(outputEl, {childList: true});\n",
       "}}\n",
       "\n",
       "                        })                };                });            </script>        </div>"
      ]
     },
     "metadata": {},
     "output_type": "display_data"
    }
   ],
   "source": [
    "countData = df[\"image_label\"].value_counts().reset_index()\n",
    "fig = px.histogram(data_frame = countData, x = \"image_label\", y=\"count\")\n",
    "fig.show()"
   ]
  },
  {
   "cell_type": "code",
   "execution_count": 8,
   "metadata": {},
   "outputs": [],
   "source": [
    "sizes = []\n",
    "resol = []\n",
    "color_allocations = []\n",
    "\n",
    "for img_path in df[\"image_path\"]:\n",
    "    #load image\n",
    "    img = cv2.imread(img_path)\n",
    "    img = cv2.cvtColor(img, cv2.COLOR_BGR2RGB)\n",
    "    #Get image size\n",
    "    size = os.path.getsize(img_path)\n",
    "    sizes.append(size)\n",
    "    #Extract the resolution of images\n",
    "    resolution = img.shape[:2]\n",
    "    resol.append(resolution)\n",
    "    #Extract color distribution\n",
    "    mean_color_distributions = np.bincount(img.flatten(), minlength = 256)\n",
    "    color_allocations.append(mean_color_distributions)\n",
    "sizes = np.array(sizes)\n",
    "resol = np.array(resol)\n",
    "color_allocations = np.array(color_allocations)"
   ]
  },
  {
   "cell_type": "code",
   "execution_count": 9,
   "metadata": {},
   "outputs": [
    {
     "data": {
      "image/png": "[encoded data removed]",
      "text/plain": [
       "<Figure size 640x480 with 1 Axes>"
      ]
     },
     "metadata": {},
     "output_type": "display_data"
    }
   ],
   "source": [
    "plt.hist(sizes)\n",
    "plt.title(\"Allocation of Image Size\")\n",
    "plt.xlabel(\"Bytes\")\n",
    "plt.ylabel(\"Number of Images Presented\")\n",
    "plt.show()"
   ]
  },
  {
   "cell_type": "code",
   "execution_count": 10,
   "metadata": {},
   "outputs": [
    {
     "data": {
      "application/vnd.plotly.v1+json": {
       "config": {
        "plotlyServerURL": "https://plot.ly"
       },
       "data": [
        {
         "alignmentgroup": "True",
         "bingroup": "x",
         "hovertemplate": "x=%{x}<br>count=%{y}<extra></extra>",
         "legendgroup": "",
         "marker": {
          "color": "blue",
          "pattern": {
           "shape": ""
          }
         },
         "name": "",
         "nbinsx": 50,
         "offsetgroup": "",
         "orientation": "v",
         "showlegend": false,
         "type": "histogram",
         "x": [
          0.148754,
          0.151616,
          0.14936,
          0.307805,
          0.312811,
          0.301345,
          0.303198,
          0.303198,
          0.309777,
          0.309777,
          0.304692,
          0.307418,
          0.150606,
          0.311102,
          0.150731,
          0.150244,
          0.150244,
          0.154511,
          0.154511,
          0.155693,
          0.156632,
          0.155634,
          0.156185,
          0.148432,
          0.151187,
          0.144093,
          0.142686,
          0.14141,
          0.14141,
          0.143983,
          0.143983,
          0.14113,
          0.146851,
          0.139928,
          0.156864,
          0.155964,
          0.155964,
          0.148058,
          0.148622,
          0.152427,
          0.152427,
          0.151775,
          0.153823,
          0.143937,
          0.156712,
          0.155761,
          0.155526,
          0.153946,
          0.156314,
          0.151111,
          0.144157,
          0.14274,
          0.143092,
          0.14339,
          0.131171,
          0.142252,
          0.14441,
          0.149639,
          0.150564,
          0.151734,
          0.152321,
          0.122802,
          0.129531,
          0.132975,
          0.138893,
          0.131898,
          0.141321,
          0.142286,
          0.11506,
          0.136955,
          0.135632,
          0.133912,
          0.138056,
          0.1388,
          0.137325,
          0.140124,
          0.142746,
          0.153896,
          0.152989,
          0.154359,
          0.154359,
          0.152994,
          0.152994,
          0.146188,
          0.146044,
          0.147978,
          0.144893,
          0.146093,
          0.143381,
          0.142463,
          0.142463,
          0.143501,
          0.146371,
          0.146371,
          0.147093,
          0.146739,
          0.144622,
          0.145863,
          0.146093,
          0.144003,
          0.143944,
          0.142178,
          0.142154,
          0.143162,
          0.143162,
          0.15349,
          0.150002,
          0.147443,
          0.142132,
          0.151616,
          0.145249,
          0.145249,
          0.151623,
          0.151232,
          0.14864,
          0.14864,
          0.14949,
          0.14949,
          0.149409,
          0.149135,
          0.084141,
          0.113974,
          0.116137,
          0.115393,
          0.115561,
          0.115839,
          0.116838,
          0.116248,
          0.117594,
          0.117302,
          0.11711,
          0.115238,
          0.114953,
          0.121351,
          0.123079,
          0.122753,
          0.123086,
          0.123178,
          0.125455,
          0.124162,
          0.124375,
          0.124309,
          0.124136,
          0.11559,
          0.124487,
          0.123201,
          0.118978,
          0.118638,
          0.11967,
          0.118742,
          0.119088,
          0.119956,
          0.120118,
          0.119417,
          0.11619,
          0.115919,
          0.114754,
          0.116655,
          0.117473,
          0.118494,
          0.119234,
          0.120262,
          0.120417,
          0.113974,
          0.114953,
          0.117239,
          0.11559,
          0.11619,
          0.115363,
          0.115603,
          0.115851,
          0.116829,
          0.117778,
          0.118013,
          0.117239,
          0.117432,
          0.116811,
          0.117907,
          0.118043,
          0.116811,
          0.115285,
          0.114945,
          0.114151,
          0.113598,
          0.11485,
          0.114308,
          0.115282,
          0.111682,
          0.11599,
          0.116233,
          0.116469,
          0.116226,
          0.115004,
          0.114967,
          0.11583,
          0.111135,
          0.111378,
          0.11195,
          0.084016,
          0.113919,
          0.114166,
          0.109212,
          0.109074,
          0.108982,
          0.109229,
          0.1104,
          0.109929,
          0.110786,
          0.111547,
          0.08429,
          0.058672,
          0.093579,
          0.093208,
          0.101671,
          0.101739,
          0.102661,
          0.102963,
          0.103748,
          0.101395,
          0.101499,
          0.120502,
          0.103701,
          0.103462,
          0.105991,
          0.105069,
          0.104874,
          0.10619,
          0.105415,
          0.104967,
          0.106402,
          0.107044,
          0.126631,
          0.122063,
          0.137659,
          0.137811,
          0.1395,
          0.140546,
          0.139318,
          0.139988,
          0.141097,
          0.142716,
          0.142699,
          0.142214,
          0.124696,
          0.142684,
          0.144105,
          0.143901,
          0.143903,
          0.144328,
          0.144742,
          0.145615,
          0.143745,
          0.14373,
          0.143527,
          0.123945,
          0.142258,
          0.143569,
          0.144587,
          0.143588,
          0.143915,
          0.143107,
          0.143,
          0.142653,
          0.112648,
          0.113804,
          0.123287,
          0.114876,
          0.116056,
          0.117239,
          0.118688,
          0.118299,
          0.118163,
          0.118674,
          0.119843,
          0.121132,
          0.121635,
          0.123605,
          0.121361,
          0.120605,
          0.121299,
          0.122229,
          0.121454,
          0.122507,
          0.122708,
          0.124464,
          0.123581,
          0.122826,
          0.124477,
          0.122815,
          0.123203,
          0.123539,
          0.123616,
          0.122937,
          0.121532,
          0.12103,
          0.120851,
          0.119992,
          0.110596,
          0.122871,
          0.11016,
          0.109209,
          0.101029,
          0.102391,
          0.108882,
          0.110092,
          0.098287,
          0.09893,
          0.099721,
          0.128667,
          0.118672,
          0.129751,
          0.128781,
          0.128468,
          0.128137,
          0.128014,
          0.127791,
          0.127605,
          0.128038,
          0.127576,
          0.127382,
          0.119375,
          0.127326,
          0.129303,
          0.130165,
          0.130175,
          0.129218,
          0.129277,
          0.129185,
          0.128852,
          0.122616,
          0.122334,
          0.105901,
          0.123339,
          0.122666,
          0.123999,
          0.124366,
          0.124014,
          0.124251,
          0.123242,
          0.123602,
          0.124126,
          0.12329,
          0.125912,
          0.119922,
          0.124153,
          0.125064,
          0.126251,
          0.125992,
          0.126684,
          0.126456,
          0.127329,
          0.128286,
          0.127545,
          0.128307,
          0.124081,
          0.127459,
          0.127712,
          0.129033,
          0.128175,
          0.127844,
          0.128661,
          0.12799,
          0.128402,
          0.127647,
          0.12799,
          0.125131,
          0.127035,
          0.127074,
          0.127878,
          0.104917,
          0.105161,
          0.105447,
          0.108076,
          0.114575,
          0.115893,
          0.116552,
          0.124566,
          0.115916,
          0.115622,
          0.116246,
          0.118194,
          0.118391,
          0.117521,
          0.116565,
          0.118632,
          0.119662,
          0.119236,
          0.125945,
          0.118202,
          0.112739,
          0.113927,
          0.113729,
          0.114679,
          0.116417,
          0.116446,
          0.115399,
          0.114958,
          0.116751,
          0.125302,
          0.117704,
          0.11822,
          0.117498,
          0.117838,
          0.119304,
          0.11812,
          0.116823,
          0.117402,
          0.116079,
          0.116361,
          0.122957,
          0.112992,
          0.113607,
          0.113516,
          0.114655,
          0.114573,
          0.121943,
          0.122891,
          0.123062,
          0.123654,
          0.123081,
          0.119653,
          0.124452,
          0.122971,
          0.122943,
          0.123676,
          0.122576,
          0.123239,
          0.123262,
          0.122379,
          0.122442,
          0.122239,
          0.118393,
          0.125209,
          0.111904,
          0.110337,
          0.109675,
          0.110547,
          0.110962,
          0.110529,
          0.110679,
          0.111616,
          0.113227,
          0.118193,
          0.114649,
          0.114021,
          0.114377,
          0.114804,
          0.115943,
          0.116094,
          0.11627,
          0.116476,
          0.116477,
          0.116866,
          0.127079,
          0.118511,
          0.116871,
          0.117845,
          0.117073,
          0.117792,
          0.117979,
          0.118501,
          0.117934,
          0.117564,
          0.116733,
          0.116011,
          0.119334,
          0.115605,
          0.115517,
          0.115869,
          0.114794,
          0.114025,
          0.148841,
          0.149579,
          0.149241,
          0.148169,
          0.147703,
          0.119185,
          0.146733,
          0.146735,
          0.144693,
          0.143883,
          0.141645,
          0.140487,
          0.140175,
          0.120606,
          0.121368,
          0.120923,
          0.119211,
          0.121345,
          0.120358,
          0.119881,
          0.119645,
          0.120426,
          0.119268,
          0.119292,
          0.12069,
          0.121356,
          0.121469,
          0.104187,
          0.096639,
          0.102996,
          0.103426,
          0.104364,
          0.106205,
          0.113452,
          0.114042,
          0.114127,
          0.113645,
          0.111082,
          0.105273,
          0.110417,
          0.110618,
          0.110638,
          0.110498,
          0.111245,
          0.112124,
          0.112387,
          0.111594,
          0.111868,
          0.103301,
          0.105525,
          0.103599,
          0.112626,
          0.123406,
          0.124847,
          0.12565,
          0.127344,
          0.129543,
          0.13078,
          0.129673,
          0.128309,
          0.104895,
          0.126803,
          0.126502,
          0.126332,
          0.125615,
          0.126676,
          0.124088,
          0.123774,
          0.123425,
          0.122277,
          0.122296,
          0.104216,
          0.121798,
          0.119959,
          0.119156,
          0.122006,
          0.122179,
          0.120113,
          0.119301,
          0.120505,
          0.121721,
          0.12057,
          0.10476,
          0.118413,
          0.118209,
          0.116838,
          0.114352,
          0.153523,
          0.152517,
          0.152423,
          0.150057,
          0.149975,
          0.155009,
          0.126868,
          0.104804,
          0.15594,
          0.155722,
          0.152568,
          0.15521,
          0.156094,
          0.154759,
          0.153816,
          0.147148,
          0.122245,
          0.121352,
          0.104045,
          0.121913,
          0.121404,
          0.114694,
          0.115922,
          0.116345,
          0.116772,
          0.117728,
          0.117713,
          0.119869,
          0.119932,
          0.103694,
          0.121105,
          0.121714,
          0.121546,
          0.108011,
          0.108325,
          0.108654,
          0.110646,
          0.079159,
          0.11168,
          0.111746,
          0.12777,
          0.11242,
          0.11246,
          0.11246,
          0.112708,
          0.11232,
          0.113609,
          0.113439,
          0.113115,
          0.121235,
          0.081687,
          0.128375,
          0.081594,
          0.081817,
          0.125849,
          0.082514,
          0.082513,
          0.082506,
          0.083,
          0.082892,
          0.083577,
          0.084241,
          0.126581,
          0.084535,
          0.082983,
          0.083791,
          0.083438,
          0.083599,
          0.083788,
          0.083958,
          0.083832,
          0.083873,
          0.084068,
          0.125799,
          0.083509,
          0.083929,
          0.12552,
          0.124165,
          0.126695,
          0.126428,
          0.125912,
          0.125749,
          0.127079,
          0.126308,
          0.126245,
          0.126868,
          0.126005,
          0.125822,
          0.126428,
          0.125758,
          0.126935,
          0.126094,
          0.126935,
          0.126479,
          0.126631,
          0.127569,
          0.126896,
          0.126884,
          0.127637,
          0.126878,
          0.103392,
          0.114151,
          0.105227,
          0.106781,
          0.107714,
          0.117675,
          0.120048,
          0.118392,
          0.119656,
          0.117216,
          0.115765,
          0.114904,
          0.113598,
          0.114308,
          0.114167,
          0.114785,
          0.115572,
          0.114712,
          0.11506,
          0.114939,
          0.115085,
          0.115342,
          0.11484,
          0.151178,
          0.147897,
          0.243476,
          0.247322,
          0.247006,
          0.246236,
          0.248273,
          0.246878,
          0.247503,
          0.242375,
          0.235052,
          0.238008,
          0.146495,
          0.239301,
          0.238305,
          0.143804,
          0.147637,
          0.14898,
          0.149612,
          0.149316,
          0.149386,
          0.149999,
          0.148992,
          0.147219,
          0.146902,
          0.142575,
          0.14827,
          0.148069,
          0.149366,
          0.1497,
          0.146973,
          0.146708,
          0.147598,
          0.148512,
          0.143738,
          0.148988,
          0.14341,
          0.140617,
          0.139817,
          0.139198,
          0.14072,
          0.140916,
          0.142231,
          0.141608,
          0.14173,
          0.148199,
          0.140043,
          0.14141,
          0.140201,
          0.141117,
          0.141584,
          0.140166,
          0.141885,
          0.141058,
          0.141267,
          0.142205,
          0.14875,
          0.142548,
          0.143236,
          0.142618,
          0.142972,
          0.142174,
          0.143148,
          0.141732,
          0.142621,
          0.298177,
          0.295902,
          0.150527,
          0.293716,
          0.293821,
          0.296596,
          0.295427,
          0.298071,
          0.298994,
          0.2974,
          0.296698,
          0.139733,
          0.143075,
          0.149466,
          0.150235,
          0.149984,
          0.150516,
          0.152644,
          0.138209,
          0.135046,
          0.134202,
          0.135233,
          0.135271,
          0.135531,
          0.149482,
          0.136449,
          0.135748,
          0.135852,
          0.135599,
          0.136795,
          0.136112,
          0.145986,
          0.144463,
          0.142673,
          0.142709,
          0.149691,
          0.141999,
          0.142486,
          0.144275,
          0.144659,
          0.259369,
          0.258367,
          0.255462,
          0.257564,
          0.260002,
          0.262198,
          0.149791,
          0.150703,
          0.147872,
          0.147125,
          0.147927,
          0.148926,
          0.150875,
          0.151126,
          0.150989,
          0.149222,
          0.150548,
          0.148649,
          0.149577,
          0.286568,
          0.293459,
          0.295926,
          0.292066,
          0.291554,
          0.290181,
          0.289389,
          0.289394,
          0.290271,
          0.293749,
          0.150576,
          0.187005,
          0.188419,
          0.185756,
          0.184867,
          0.183817,
          0.185561,
          0.185533,
          0.183142,
          0.18412,
          0.182282,
          0.149285,
          0.152181,
          0.150304,
          0.149165,
          0.150528,
          0.14969,
          0.150087,
          0.151309,
          0.149938,
          0.149358,
          0.150594,
          0.148386,
          0.150937,
          0.151473,
          0.151265,
          0.149538,
          0.299652,
          0.299736,
          0.301856,
          0.302604,
          0.302192,
          0.306113,
          0.154498,
          0.304167,
          0.305367,
          0.306849,
          0.303657,
          0.152633,
          0.152894,
          0.153017,
          0.152837,
          0.152901,
          0.152977,
          0.098842,
          0.154785,
          0.153228,
          0.15352,
          0.153132,
          0.15332,
          0.153802,
          0.154036,
          0.155525,
          0.154411,
          0.153768,
          0.148652,
          0.173328,
          0.173893,
          0.173316,
          0.175633,
          0.175707,
          0.175986,
          0.173818,
          0.175697,
          0.174244,
          0.144614,
          0.149263,
          0.142288,
          0.142324,
          0.142836,
          0.144275,
          0.143249,
          0.143967,
          0.145354,
          0.145159,
          0.145513,
          0.146222,
          0.146799,
          0.148069,
          0.152373,
          0.155414,
          0.15214,
          0.15148,
          0.150573,
          0.153125,
          0.147754,
          0.148102,
          0.149892,
          0.149816,
          0.145869,
          0.150266,
          0.149934,
          0.150178,
          0.15164,
          0.152668,
          0.149787,
          0.150822,
          0.148458,
          0.147718,
          0.147762,
          0.142819,
          0.147818,
          0.148043,
          0.148161,
          0.289321,
          0.28454,
          0.282926,
          0.280061,
          0.288487,
          0.286703,
          0.288969,
          0.142075,
          0.287846,
          0.285238,
          0.283566,
          0.284387,
          0.142296,
          0.137907,
          0.138895,
          0.137804,
          0.148199,
          0.148354,
          0.15229,
          0.149631,
          0.148426,
          0.149733,
          0.147759,
          0.146305,
          0.146286,
          0.136225,
          0.135652,
          0.135328,
          0.140278,
          0.149225,
          0.140713,
          0.140551,
          0.140357,
          0.140065,
          0.069204,
          0.155976,
          0.157217,
          0.15716,
          0.156154,
          0.159086,
          0.149951,
          0.272765,
          0.268612,
          0.269117,
          0.270034,
          0.270557,
          0.153393,
          0.15271,
          0.152157,
          0.149578,
          0.150961,
          0.14845,
          0.150032,
          0.15022,
          0.150149,
          0.150303,
          0.151358,
          0.150135,
          0.150278,
          0.151406,
          0.1497,
          0.149762,
          0.153613,
          0.150937,
          0.150189,
          0.14933,
          0.150573,
          0.149508,
          0.151088,
          0.150087,
          0.151619,
          0.150741,
          0.151479,
          0.152608,
          0.151862,
          0.152565,
          0.152599,
          0.151619,
          0.152407,
          0.153776,
          0.151404,
          0.1505,
          0.151912,
          0.151461,
          0.149968,
          0.152991,
          0.152898,
          0.152506,
          0.152297,
          0.153142,
          0.151764,
          0.153501,
          0.152948,
          0.153535,
          0.140664,
          0.15162,
          0.151012,
          0.144307,
          0.142558,
          0.13828,
          0.138459,
          0.139529,
          0.138439,
          0.150303,
          0.150135,
          0.1497,
          0.151088,
          0.150046,
          0.140551,
          0.148426,
          0.146495,
          0.149691,
          0.139198,
          0.140166,
          0.142205,
          0.152769,
          0.151193,
          0.150604,
          0.152319,
          0.153396,
          0.152815,
          0.146645,
          0.146476,
          0.150475,
          0.150088,
          0.150787,
          0.151034,
          0.15089,
          0.151771,
          0.149482,
          0.149714,
          0.149905,
          0.151766,
          0.15144,
          0.150641,
          0.154748,
          0.155739,
          0.148215,
          0.150109,
          0.263958,
          0.266678,
          0.267395,
          0.26352,
          0.264003,
          0.262258,
          0.150739,
          0.26455,
          0.264778,
          0.261378,
          0.153233,
          0.152342,
          0.152839,
          0.152624,
          0.153432,
          0.153196,
          0.155606,
          0.147797,
          0.155284,
          0.154228,
          0.153879,
          0.153878,
          0.154666,
          0.156345,
          0.156887,
          0.156375,
          0.152595,
          0.151457,
          0.146839,
          0.15147,
          0.151969,
          0.149159,
          0.149093,
          0.149178,
          0.148976,
          0.148086,
          0.148395,
          0.251377,
          0.245316
         ],
         "xaxis": "x",
         "yaxis": "y"
        }
       ],
       "layout": {
        "bargap": 0.1,
        "bargroupgap": 0.1,
        "barmode": "relative",
        "legend": {
         "tracegroupgap": 0
        },
        "showlegend": false,
        "template": {
         "data": {
          "bar": [
           {
            "error_x": {
             "color": "#2a3f5f"
            },
            "error_y": {
             "color": "#2a3f5f"
            },
            "marker": {
             "line": {
              "color": "#E5ECF6",
              "width": 0.5
             },
             "pattern": {
              "fillmode": "overlay",
              "size": 10,
              "solidity": 0.2
             }
            },
            "type": "bar"
           }
          ],
          "barpolar": [
           {
            "marker": {
             "line": {
              "color": "#E5ECF6",
              "width": 0.5
             },
             "pattern": {
              "fillmode": "overlay",
              "size": 10,
              "solidity": 0.2
             }
            },
            "type": "barpolar"
           }
          ],
          "carpet": [
           {
            "aaxis": {
             "endlinecolor": "#2a3f5f",
             "gridcolor": "white",
             "linecolor": "white",
             "minorgridcolor": "white",
             "startlinecolor": "#2a3f5f"
            },
            "baxis": {
             "endlinecolor": "#2a3f5f",
             "gridcolor": "white",
             "linecolor": "white",
             "minorgridcolor": "white",
             "startlinecolor": "#2a3f5f"
            },
            "type": "carpet"
           }
          ],
          "choropleth": [
           {
            "colorbar": {
             "outlinewidth": 0,
             "ticks": ""
            },
            "type": "choropleth"
           }
          ],
          "contour": [
           {
            "colorbar": {
             "outlinewidth": 0,
             "ticks": ""
            },
            "colorscale": [
             [
              0,
              "#0d0887"
             ],
             [
              0.1111111111111111,
              "#46039f"
             ],
             [
              0.2222222222222222,
              "#7201a8"
             ],
             [
              0.3333333333333333,
              "#9c179e"
             ],
             [
              0.4444444444444444,
              "#bd3786"
             ],
             [
              0.5555555555555556,
              "#d8576b"
             ],
             [
              0.6666666666666666,
              "#ed7953"
             ],
             [
              0.7777777777777778,
              "#fb9f3a"
             ],
             [
              0.8888888888888888,
              "#fdca26"
             ],
             [
              1,
              "#f0f921"
             ]
            ],
            "type": "contour"
           }
          ],
          "contourcarpet": [
           {
            "colorbar": {
             "outlinewidth": 0,
             "ticks": ""
            },
            "type": "contourcarpet"
           }
          ],
          "heatmap": [
           {
            "colorbar": {
             "outlinewidth": 0,
             "ticks": ""
            },
            "colorscale": [
             [
              0,
              "#0d0887"
             ],
             [
              0.1111111111111111,
              "#46039f"
             ],
             [
              0.2222222222222222,
              "#7201a8"
             ],
             [
              0.3333333333333333,
              "#9c179e"
             ],
             [
              0.4444444444444444,
              "#bd3786"
             ],
             [
              0.5555555555555556,
              "#d8576b"
             ],
             [
              0.6666666666666666,
              "#ed7953"
             ],
             [
              0.7777777777777778,
              "#fb9f3a"
             ],
             [
              0.8888888888888888,
              "#fdca26"
             ],
             [
              1,
              "#f0f921"
             ]
            ],
            "type": "heatmap"
           }
          ],
          "heatmapgl": [
           {
            "colorbar": {
             "outlinewidth": 0,
             "ticks": ""
            },
            "colorscale": [
             [
              0,
              "#0d0887"
             ],
             [
              0.1111111111111111,
              "#46039f"
             ],
             [
              0.2222222222222222,
              "#7201a8"
             ],
             [
              0.3333333333333333,
              "#9c179e"
             ],
             [
              0.4444444444444444,
              "#bd3786"
             ],
             [
              0.5555555555555556,
              "#d8576b"
             ],
             [
              0.6666666666666666,
              "#ed7953"
             ],
             [
              0.7777777777777778,
              "#fb9f3a"
             ],
             [
              0.8888888888888888,
              "#fdca26"
             ],
             [
              1,
              "#f0f921"
             ]
            ],
            "type": "heatmapgl"
           }
          ],
          "histogram": [
           {
            "marker": {
             "pattern": {
              "fillmode": "overlay",
              "size": 10,
              "solidity": 0.2
             }
            },
            "type": "histogram"
           }
          ],
          "histogram2d": [
           {
            "colorbar": {
             "outlinewidth": 0,
             "ticks": ""
            },
            "colorscale": [
             [
              0,
              "#0d0887"
             ],
             [
              0.1111111111111111,
              "#46039f"
             ],
             [
              0.2222222222222222,
              "#7201a8"
             ],
             [
              0.3333333333333333,
              "#9c179e"
             ],
             [
              0.4444444444444444,
              "#bd3786"
             ],
             [
              0.5555555555555556,
              "#d8576b"
             ],
             [
              0.6666666666666666,
              "#ed7953"
             ],
             [
              0.7777777777777778,
              "#fb9f3a"
             ],
             [
              0.8888888888888888,
              "#fdca26"
             ],
             [
              1,
              "#f0f921"
             ]
            ],
            "type": "histogram2d"
           }
          ],
          "histogram2dcontour": [
           {
            "colorbar": {
             "outlinewidth": 0,
             "ticks": ""
            },
            "colorscale": [
             [
              0,
              "#0d0887"
             ],
             [
              0.1111111111111111,
              "#46039f"
             ],
             [
              0.2222222222222222,
              "#7201a8"
             ],
             [
              0.3333333333333333,
              "#9c179e"
             ],
             [
              0.4444444444444444,
              "#bd3786"
             ],
             [
              0.5555555555555556,
              "#d8576b"
             ],
             [
              0.6666666666666666,
              "#ed7953"
             ],
             [
              0.7777777777777778,
              "#fb9f3a"
             ],
             [
              0.8888888888888888,
              "#fdca26"
             ],
             [
              1,
              "#f0f921"
             ]
            ],
            "type": "histogram2dcontour"
           }
          ],
          "mesh3d": [
           {
            "colorbar": {
             "outlinewidth": 0,
             "ticks": ""
            },
            "type": "mesh3d"
           }
          ],
          "parcoords": [
           {
            "line": {
             "colorbar": {
              "outlinewidth": 0,
              "ticks": ""
             }
            },
            "type": "parcoords"
           }
          ],
          "pie": [
           {
            "automargin": true,
            "type": "pie"
           }
          ],
          "scatter": [
           {
            "fillpattern": {
             "fillmode": "overlay",
             "size": 10,
             "solidity": 0.2
            },
            "type": "scatter"
           }
          ],
          "scatter3d": [
           {
            "line": {
             "colorbar": {
              "outlinewidth": 0,
              "ticks": ""
             }
            },
            "marker": {
             "colorbar": {
              "outlinewidth": 0,
              "ticks": ""
             }
            },
            "type": "scatter3d"
           }
          ],
          "scattercarpet": [
           {
            "marker": {
             "colorbar": {
              "outlinewidth": 0,
              "ticks": ""
             }
            },
            "type": "scattercarpet"
           }
          ],
          "scattergeo": [
           {
            "marker": {
             "colorbar": {
              "outlinewidth": 0,
              "ticks": ""
             }
            },
            "type": "scattergeo"
           }
          ],
          "scattergl": [
           {
            "marker": {
             "colorbar": {
              "outlinewidth": 0,
              "ticks": ""
             }
            },
            "type": "scattergl"
           }
          ],
          "scattermapbox": [
           {
            "marker": {
             "colorbar": {
              "outlinewidth": 0,
              "ticks": ""
             }
            },
            "type": "scattermapbox"
           }
          ],
          "scatterpolar": [
           {
            "marker": {
             "colorbar": {
              "outlinewidth": 0,
              "ticks": ""
             }
            },
            "type": "scatterpolar"
           }
          ],
          "scatterpolargl": [
           {
            "marker": {
             "colorbar": {
              "outlinewidth": 0,
              "ticks": ""
             }
            },
            "type": "scatterpolargl"
           }
          ],
          "scatterternary": [
           {
            "marker": {
             "colorbar": {
              "outlinewidth": 0,
              "ticks": ""
             }
            },
            "type": "scatterternary"
           }
          ],
          "surface": [
           {
            "colorbar": {
             "outlinewidth": 0,
             "ticks": ""
            },
            "colorscale": [
             [
              0,
              "#0d0887"
             ],
             [
              0.1111111111111111,
              "#46039f"
             ],
             [
              0.2222222222222222,
              "#7201a8"
             ],
             [
              0.3333333333333333,
              "#9c179e"
             ],
             [
              0.4444444444444444,
              "#bd3786"
             ],
             [
              0.5555555555555556,
              "#d8576b"
             ],
             [
              0.6666666666666666,
              "#ed7953"
             ],
             [
              0.7777777777777778,
              "#fb9f3a"
             ],
             [
              0.8888888888888888,
              "#fdca26"
             ],
             [
              1,
              "#f0f921"
             ]
            ],
            "type": "surface"
           }
          ],
          "table": [
           {
            "cells": {
             "fill": {
              "color": "#EBF0F8"
             },
             "line": {
              "color": "white"
             }
            },
            "header": {
             "fill": {
              "color": "#C8D4E3"
             },
             "line": {
              "color": "white"
             }
            },
            "type": "table"
           }
          ]
         },
         "layout": {
          "annotationdefaults": {
           "arrowcolor": "#2a3f5f",
           "arrowhead": 0,
           "arrowwidth": 1
          },
          "autotypenumbers": "strict",
          "coloraxis": {
           "colorbar": {
            "outlinewidth": 0,
            "ticks": ""
           }
          },
          "colorscale": {
           "diverging": [
            [
             0,
             "#8e0152"
            ],
            [
             0.1,
             "#c51b7d"
            ],
            [
             0.2,
             "#de77ae"
            ],
            [
             0.3,
             "#f1b6da"
            ],
            [
             0.4,
             "#fde0ef"
            ],
            [
             0.5,
             "#f7f7f7"
            ],
            [
             0.6,
             "#e6f5d0"
            ],
            [
             0.7,
             "#b8e186"
            ],
            [
             0.8,
             "#7fbc41"
            ],
            [
             0.9,
             "#4d9221"
            ],
            [
             1,
             "#276419"
            ]
           ],
           "sequential": [
            [
             0,
             "#0d0887"
            ],
            [
             0.1111111111111111,
             "#46039f"
            ],
            [
             0.2222222222222222,
             "#7201a8"
            ],
            [
             0.3333333333333333,
             "#9c179e"
            ],
            [
             0.4444444444444444,
             "#bd3786"
            ],
            [
             0.5555555555555556,
             "#d8576b"
            ],
            [
             0.6666666666666666,
             "#ed7953"
            ],
            [
             0.7777777777777778,
             "#fb9f3a"
            ],
            [
             0.8888888888888888,
             "#fdca26"
            ],
            [
             1,
             "#f0f921"
            ]
           ],
           "sequentialminus": [
            [
             0,
             "#0d0887"
            ],
            [
             0.1111111111111111,
             "#46039f"
            ],
            [
             0.2222222222222222,
             "#7201a8"
            ],
            [
             0.3333333333333333,
             "#9c179e"
            ],
            [
             0.4444444444444444,
             "#bd3786"
            ],
            [
             0.5555555555555556,
             "#d8576b"
            ],
            [
             0.6666666666666666,
             "#ed7953"
            ],
            [
             0.7777777777777778,
             "#fb9f3a"
            ],
            [
             0.8888888888888888,
             "#fdca26"
            ],
            [
             1,
             "#f0f921"
            ]
           ]
          },
          "colorway": [
           "#636efa",
           "#EF553B",
           "#00cc96",
           "#ab63fa",
           "#FFA15A",
           "#19d3f3",
           "#FF6692",
           "#B6E880",
           "#FF97FF",
           "#FECB52"
          ],
          "font": {
           "color": "#2a3f5f"
          },
          "geo": {
           "bgcolor": "white",
           "lakecolor": "white",
           "landcolor": "#E5ECF6",
           "showlakes": true,
           "showland": true,
           "subunitcolor": "white"
          },
          "hoverlabel": {
           "align": "left"
          },
          "hovermode": "closest",
          "mapbox": {
           "style": "light"
          },
          "paper_bgcolor": "white",
          "plot_bgcolor": "#E5ECF6",
          "polar": {
           "angularaxis": {
            "gridcolor": "white",
            "linecolor": "white",
            "ticks": ""
           },
           "bgcolor": "#E5ECF6",
           "radialaxis": {
            "gridcolor": "white",
            "linecolor": "white",
            "ticks": ""
           }
          },
          "scene": {
           "xaxis": {
            "backgroundcolor": "#E5ECF6",
            "gridcolor": "white",
            "gridwidth": 2,
            "linecolor": "white",
            "showbackground": true,
            "ticks": "",
            "zerolinecolor": "white"
           },
           "yaxis": {
            "backgroundcolor": "#E5ECF6",
            "gridcolor": "white",
            "gridwidth": 2,
            "linecolor": "white",
            "showbackground": true,
            "ticks": "",
            "zerolinecolor": "white"
           },
           "zaxis": {
            "backgroundcolor": "#E5ECF6",
            "gridcolor": "white",
            "gridwidth": 2,
            "linecolor": "white",
            "showbackground": true,
            "ticks": "",
            "zerolinecolor": "white"
           }
          },
          "shapedefaults": {
           "line": {
            "color": "#2a3f5f"
           }
          },
          "ternary": {
           "aaxis": {
            "gridcolor": "white",
            "linecolor": "white",
            "ticks": ""
           },
           "baxis": {
            "gridcolor": "white",
            "linecolor": "white",
            "ticks": ""
           },
           "bgcolor": "#E5ECF6",
           "caxis": {
            "gridcolor": "white",
            "linecolor": "white",
            "ticks": ""
           }
          },
          "title": {
           "x": 0.05
          },
          "xaxis": {
           "automargin": true,
           "gridcolor": "white",
           "linecolor": "white",
           "ticks": "",
           "title": {
            "standoff": 15
           },
           "zerolinecolor": "white",
           "zerolinewidth": 2
          },
          "yaxis": {
           "automargin": true,
           "gridcolor": "white",
           "linecolor": "white",
           "ticks": "",
           "title": {
            "standoff": 15
           },
           "zerolinecolor": "white",
           "zerolinewidth": 2
          }
         }
        },
        "title": {
         "text": "Allocation of Image Sizes"
        },
        "xaxis": {
         "anchor": "y",
         "domain": [
          0,
          1
         ],
         "title": {
          "text": "File Size (MB)"
         }
        },
        "yaxis": {
         "anchor": "x",
         "domain": [
          0,
          1
         ],
         "title": {
          "text": "Number of Images Presented"
         }
        }
       }
      },
      "text/html": [
       "<div>                            <div id=\"ad5a2172-5d5e-4081-8056-66b1615fc224\" class=\"plotly-graph-div\" style=\"height:525px; width:100%;\"></div>            <script type=\"text/javascript\">                require([\"plotly\"], function(Plotly) {                    window.PLOTLYENV=window.PLOTLYENV || {};                                    if (document.getElementById(\"ad5a2172-5d5e-4081-8056-66b1615fc224\")) {                    Plotly.newPlot(                        \"ad5a2172-5d5e-4081-8056-66b1615fc224\",                        [{\"alignmentgroup\":\"True\",\"bingroup\":\"x\",\"hovertemplate\":\"x=%{x}<br>count=%{y}<extra></extra>\",\"legendgroup\":\"\",\"marker\":{\"color\":\"blue\",\"pattern\":{\"shape\":\"\"}},\"name\":\"\",\"nbinsx\":50,\"offsetgroup\":\"\",\"orientation\":\"v\",\"showlegend\":false,\"x\":[0.148754,0.151616,0.14936,0.307805,0.312811,0.301345,0.303198,0.303198,0.309777,0.309777,0.304692,0.307418,0.150606,0.311102,0.150731,0.150244,0.150244,0.154511,0.154511,0.155693,0.156632,0.155634,0.156185,0.148432,0.151187,0.144093,0.142686,0.14141,0.14141,0.143983,0.143983,0.14113,0.146851,0.139928,0.156864,0.155964,0.155964,0.148058,0.148622,0.152427,0.152427,0.151775,0.153823,0.143937,0.156712,0.155761,0.155526,0.153946,0.156314,0.151111,0.144157,0.14274,0.143092,0.14339,0.131171,0.142252,0.14441,0.149639,0.150564,0.151734,0.152321,0.122802,0.129531,0.132975,0.138893,0.131898,0.141321,0.142286,0.11506,0.136955,0.135632,0.133912,0.138056,0.1388,0.137325,0.140124,0.142746,0.153896,0.152989,0.154359,0.154359,0.152994,0.152994,0.146188,0.146044,0.147978,0.144893,0.146093,0.143381,0.142463,0.142463,0.143501,0.146371,0.146371,0.147093,0.146739,0.144622,0.145863,0.146093,0.144003,0.143944,0.142178,0.142154,0.143162,0.143162,0.15349,0.150002,0.147443,0.142132,0.151616,0.145249,0.145249,0.151623,0.151232,0.14864,0.14864,0.14949,0.14949,0.149409,0.149135,0.084141,0.113974,0.116137,0.115393,0.115561,0.115839,0.116838,0.116248,0.117594,0.117302,0.11711,0.115238,0.114953,0.121351,0.123079,0.122753,0.123086,0.123178,0.125455,0.124162,0.124375,0.124309,0.124136,0.11559,0.124487,0.123201,0.118978,0.118638,0.11967,0.118742,0.119088,0.119956,0.120118,0.119417,0.11619,0.115919,0.114754,0.116655,0.117473,0.118494,0.119234,0.120262,0.120417,0.113974,0.114953,0.117239,0.11559,0.11619,0.115363,0.115603,0.115851,0.116829,0.117778,0.118013,0.117239,0.117432,0.116811,0.117907,0.118043,0.116811,0.115285,0.114945,0.114151,0.113598,0.11485,0.114308,0.115282,0.111682,0.11599,0.116233,0.116469,0.116226,0.115004,0.114967,0.11583,0.111135,0.111378,0.11195,0.084016,0.113919,0.114166,0.109212,0.109074,0.108982,0.109229,0.1104,0.109929,0.110786,0.111547,0.08429,0.058672,0.093579,0.093208,0.101671,0.101739,0.102661,0.102963,0.103748,0.101395,0.101499,0.120502,0.103701,0.103462,0.105991,0.105069,0.104874,0.10619,0.105415,0.104967,0.106402,0.107044,0.126631,0.122063,0.137659,0.137811,0.1395,0.140546,0.139318,0.139988,0.141097,0.142716,0.142699,0.142214,0.124696,0.142684,0.144105,0.143901,0.143903,0.144328,0.144742,0.145615,0.143745,0.14373,0.143527,0.123945,0.142258,0.143569,0.144587,0.143588,0.143915,0.143107,0.143,0.142653,0.112648,0.113804,0.123287,0.114876,0.116056,0.117239,0.118688,0.118299,0.118163,0.118674,0.119843,0.121132,0.121635,0.123605,0.121361,0.120605,0.121299,0.122229,0.121454,0.122507,0.122708,0.124464,0.123581,0.122826,0.124477,0.122815,0.123203,0.123539,0.123616,0.122937,0.121532,0.12103,0.120851,0.119992,0.110596,0.122871,0.11016,0.109209,0.101029,0.102391,0.108882,0.110092,0.098287,0.09893,0.099721,0.128667,0.118672,0.129751,0.128781,0.128468,0.128137,0.128014,0.127791,0.127605,0.128038,0.127576,0.127382,0.119375,0.127326,0.129303,0.130165,0.130175,0.129218,0.129277,0.129185,0.128852,0.122616,0.122334,0.105901,0.123339,0.122666,0.123999,0.124366,0.124014,0.124251,0.123242,0.123602,0.124126,0.12329,0.125912,0.119922,0.124153,0.125064,0.126251,0.125992,0.126684,0.126456,0.127329,0.128286,0.127545,0.128307,0.124081,0.127459,0.127712,0.129033,0.128175,0.127844,0.128661,0.12799,0.128402,0.127647,0.12799,0.125131,0.127035,0.127074,0.127878,0.104917,0.105161,0.105447,0.108076,0.114575,0.115893,0.116552,0.124566,0.115916,0.115622,0.116246,0.118194,0.118391,0.117521,0.116565,0.118632,0.119662,0.119236,0.125945,0.118202,0.112739,0.113927,0.113729,0.114679,0.116417,0.116446,0.115399,0.114958,0.116751,0.125302,0.117704,0.11822,0.117498,0.117838,0.119304,0.11812,0.116823,0.117402,0.116079,0.116361,0.122957,0.112992,0.113607,0.113516,0.114655,0.114573,0.121943,0.122891,0.123062,0.123654,0.123081,0.119653,0.124452,0.122971,0.122943,0.123676,0.122576,0.123239,0.123262,0.122379,0.122442,0.122239,0.118393,0.125209,0.111904,0.110337,0.109675,0.110547,0.110962,0.110529,0.110679,0.111616,0.113227,0.118193,0.114649,0.114021,0.114377,0.114804,0.115943,0.116094,0.11627,0.116476,0.116477,0.116866,0.127079,0.118511,0.116871,0.117845,0.117073,0.117792,0.117979,0.118501,0.117934,0.117564,0.116733,0.116011,0.119334,0.115605,0.115517,0.115869,0.114794,0.114025,0.148841,0.149579,0.149241,0.148169,0.147703,0.119185,0.146733,0.146735,0.144693,0.143883,0.141645,0.140487,0.140175,0.120606,0.121368,0.120923,0.119211,0.121345,0.120358,0.119881,0.119645,0.120426,0.119268,0.119292,0.12069,0.121356,0.121469,0.104187,0.096639,0.102996,0.103426,0.104364,0.106205,0.113452,0.114042,0.114127,0.113645,0.111082,0.105273,0.110417,0.110618,0.110638,0.110498,0.111245,0.112124,0.112387,0.111594,0.111868,0.103301,0.105525,0.103599,0.112626,0.123406,0.124847,0.12565,0.127344,0.129543,0.13078,0.129673,0.128309,0.104895,0.126803,0.126502,0.126332,0.125615,0.126676,0.124088,0.123774,0.123425,0.122277,0.122296,0.104216,0.121798,0.119959,0.119156,0.122006,0.122179,0.120113,0.119301,0.120505,0.121721,0.12057,0.10476,0.118413,0.118209,0.116838,0.114352,0.153523,0.152517,0.152423,0.150057,0.149975,0.155009,0.126868,0.104804,0.15594,0.155722,0.152568,0.15521,0.156094,0.154759,0.153816,0.147148,0.122245,0.121352,0.104045,0.121913,0.121404,0.114694,0.115922,0.116345,0.116772,0.117728,0.117713,0.119869,0.119932,0.103694,0.121105,0.121714,0.121546,0.108011,0.108325,0.108654,0.110646,0.079159,0.11168,0.111746,0.12777,0.11242,0.11246,0.11246,0.112708,0.11232,0.113609,0.113439,0.113115,0.121235,0.081687,0.128375,0.081594,0.081817,0.125849,0.082514,0.082513,0.082506,0.083,0.082892,0.083577,0.084241,0.126581,0.084535,0.082983,0.083791,0.083438,0.083599,0.083788,0.083958,0.083832,0.083873,0.084068,0.125799,0.083509,0.083929,0.12552,0.124165,0.126695,0.126428,0.125912,0.125749,0.127079,0.126308,0.126245,0.126868,0.126005,0.125822,0.126428,0.125758,0.126935,0.126094,0.126935,0.126479,0.126631,0.127569,0.126896,0.126884,0.127637,0.126878,0.103392,0.114151,0.105227,0.106781,0.107714,0.117675,0.120048,0.118392,0.119656,0.117216,0.115765,0.114904,0.113598,0.114308,0.114167,0.114785,0.115572,0.114712,0.11506,0.114939,0.115085,0.115342,0.11484,0.151178,0.147897,0.243476,0.247322,0.247006,0.246236,0.248273,0.246878,0.247503,0.242375,0.235052,0.238008,0.146495,0.239301,0.238305,0.143804,0.147637,0.14898,0.149612,0.149316,0.149386,0.149999,0.148992,0.147219,0.146902,0.142575,0.14827,0.148069,0.149366,0.1497,0.146973,0.146708,0.147598,0.148512,0.143738,0.148988,0.14341,0.140617,0.139817,0.139198,0.14072,0.140916,0.142231,0.141608,0.14173,0.148199,0.140043,0.14141,0.140201,0.141117,0.141584,0.140166,0.141885,0.141058,0.141267,0.142205,0.14875,0.142548,0.143236,0.142618,0.142972,0.142174,0.143148,0.141732,0.142621,0.298177,0.295902,0.150527,0.293716,0.293821,0.296596,0.295427,0.298071,0.298994,0.2974,0.296698,0.139733,0.143075,0.149466,0.150235,0.149984,0.150516,0.152644,0.138209,0.135046,0.134202,0.135233,0.135271,0.135531,0.149482,0.136449,0.135748,0.135852,0.135599,0.136795,0.136112,0.145986,0.144463,0.142673,0.142709,0.149691,0.141999,0.142486,0.144275,0.144659,0.259369,0.258367,0.255462,0.257564,0.260002,0.262198,0.149791,0.150703,0.147872,0.147125,0.147927,0.148926,0.150875,0.151126,0.150989,0.149222,0.150548,0.148649,0.149577,0.286568,0.293459,0.295926,0.292066,0.291554,0.290181,0.289389,0.289394,0.290271,0.293749,0.150576,0.187005,0.188419,0.185756,0.184867,0.183817,0.185561,0.185533,0.183142,0.18412,0.182282,0.149285,0.152181,0.150304,0.149165,0.150528,0.14969,0.150087,0.151309,0.149938,0.149358,0.150594,0.148386,0.150937,0.151473,0.151265,0.149538,0.299652,0.299736,0.301856,0.302604,0.302192,0.306113,0.154498,0.304167,0.305367,0.306849,0.303657,0.152633,0.152894,0.153017,0.152837,0.152901,0.152977,0.098842,0.154785,0.153228,0.15352,0.153132,0.15332,0.153802,0.154036,0.155525,0.154411,0.153768,0.148652,0.173328,0.173893,0.173316,0.175633,0.175707,0.175986,0.173818,0.175697,0.174244,0.144614,0.149263,0.142288,0.142324,0.142836,0.144275,0.143249,0.143967,0.145354,0.145159,0.145513,0.146222,0.146799,0.148069,0.152373,0.155414,0.15214,0.15148,0.150573,0.153125,0.147754,0.148102,0.149892,0.149816,0.145869,0.150266,0.149934,0.150178,0.15164,0.152668,0.149787,0.150822,0.148458,0.147718,0.147762,0.142819,0.147818,0.148043,0.148161,0.289321,0.28454,0.282926,0.280061,0.288487,0.286703,0.288969,0.142075,0.287846,0.285238,0.283566,0.284387,0.142296,0.137907,0.138895,0.137804,0.148199,0.148354,0.15229,0.149631,0.148426,0.149733,0.147759,0.146305,0.146286,0.136225,0.135652,0.135328,0.140278,0.149225,0.140713,0.140551,0.140357,0.140065,0.069204,0.155976,0.157217,0.15716,0.156154,0.159086,0.149951,0.272765,0.268612,0.269117,0.270034,0.270557,0.153393,0.15271,0.152157,0.149578,0.150961,0.14845,0.150032,0.15022,0.150149,0.150303,0.151358,0.150135,0.150278,0.151406,0.1497,0.149762,0.153613,0.150937,0.150189,0.14933,0.150573,0.149508,0.151088,0.150087,0.151619,0.150741,0.151479,0.152608,0.151862,0.152565,0.152599,0.151619,0.152407,0.153776,0.151404,0.1505,0.151912,0.151461,0.149968,0.152991,0.152898,0.152506,0.152297,0.153142,0.151764,0.153501,0.152948,0.153535,0.140664,0.15162,0.151012,0.144307,0.142558,0.13828,0.138459,0.139529,0.138439,0.150303,0.150135,0.1497,0.151088,0.150046,0.140551,0.148426,0.146495,0.149691,0.139198,0.140166,0.142205,0.152769,0.151193,0.150604,0.152319,0.153396,0.152815,0.146645,0.146476,0.150475,0.150088,0.150787,0.151034,0.15089,0.151771,0.149482,0.149714,0.149905,0.151766,0.15144,0.150641,0.154748,0.155739,0.148215,0.150109,0.263958,0.266678,0.267395,0.26352,0.264003,0.262258,0.150739,0.26455,0.264778,0.261378,0.153233,0.152342,0.152839,0.152624,0.153432,0.153196,0.155606,0.147797,0.155284,0.154228,0.153879,0.153878,0.154666,0.156345,0.156887,0.156375,0.152595,0.151457,0.146839,0.15147,0.151969,0.149159,0.149093,0.149178,0.148976,0.148086,0.148395,0.251377,0.245316],\"xaxis\":\"x\",\"yaxis\":\"y\",\"type\":\"histogram\"}],                        {\"template\":{\"data\":{\"histogram2dcontour\":[{\"type\":\"histogram2dcontour\",\"colorbar\":{\"outlinewidth\":0,\"ticks\":\"\"},\"colorscale\":[[0.0,\"#0d0887\"],[0.1111111111111111,\"#46039f\"],[0.2222222222222222,\"#7201a8\"],[0.3333333333333333,\"#9c179e\"],[0.4444444444444444,\"#bd3786\"],[0.5555555555555556,\"#d8576b\"],[0.6666666666666666,\"#ed7953\"],[0.7777777777777778,\"#fb9f3a\"],[0.8888888888888888,\"#fdca26\"],[1.0,\"#f0f921\"]]}],\"choropleth\":[{\"type\":\"choropleth\",\"colorbar\":{\"outlinewidth\":0,\"ticks\":\"\"}}],\"histogram2d\":[{\"type\":\"histogram2d\",\"colorbar\":{\"outlinewidth\":0,\"ticks\":\"\"},\"colorscale\":[[0.0,\"#0d0887\"],[0.1111111111111111,\"#46039f\"],[0.2222222222222222,\"#7201a8\"],[0.3333333333333333,\"#9c179e\"],[0.4444444444444444,\"#bd3786\"],[0.5555555555555556,\"#d8576b\"],[0.6666666666666666,\"#ed7953\"],[0.7777777777777778,\"#fb9f3a\"],[0.8888888888888888,\"#fdca26\"],[1.0,\"#f0f921\"]]}],\"heatmap\":[{\"type\":\"heatmap\",\"colorbar\":{\"outlinewidth\":0,\"ticks\":\"\"},\"colorscale\":[[0.0,\"#0d0887\"],[0.1111111111111111,\"#46039f\"],[0.2222222222222222,\"#7201a8\"],[0.3333333333333333,\"#9c179e\"],[0.4444444444444444,\"#bd3786\"],[0.5555555555555556,\"#d8576b\"],[0.6666666666666666,\"#ed7953\"],[0.7777777777777778,\"#fb9f3a\"],[0.8888888888888888,\"#fdca26\"],[1.0,\"#f0f921\"]]}],\"heatmapgl\":[{\"type\":\"heatmapgl\",\"colorbar\":{\"outlinewidth\":0,\"ticks\":\"\"},\"colorscale\":[[0.0,\"#0d0887\"],[0.1111111111111111,\"#46039f\"],[0.2222222222222222,\"#7201a8\"],[0.3333333333333333,\"#9c179e\"],[0.4444444444444444,\"#bd3786\"],[0.5555555555555556,\"#d8576b\"],[0.6666666666666666,\"#ed7953\"],[0.7777777777777778,\"#fb9f3a\"],[0.8888888888888888,\"#fdca26\"],[1.0,\"#f0f921\"]]}],\"contourcarpet\":[{\"type\":\"contourcarpet\",\"colorbar\":{\"outlinewidth\":0,\"ticks\":\"\"}}],\"contour\":[{\"type\":\"contour\",\"colorbar\":{\"outlinewidth\":0,\"ticks\":\"\"},\"colorscale\":[[0.0,\"#0d0887\"],[0.1111111111111111,\"#46039f\"],[0.2222222222222222,\"#7201a8\"],[0.3333333333333333,\"#9c179e\"],[0.4444444444444444,\"#bd3786\"],[0.5555555555555556,\"#d8576b\"],[0.6666666666666666,\"#ed7953\"],[0.7777777777777778,\"#fb9f3a\"],[0.8888888888888888,\"#fdca26\"],[1.0,\"#f0f921\"]]}],\"surface\":[{\"type\":\"surface\",\"colorbar\":{\"outlinewidth\":0,\"ticks\":\"\"},\"colorscale\":[[0.0,\"#0d0887\"],[0.1111111111111111,\"#46039f\"],[0.2222222222222222,\"#7201a8\"],[0.3333333333333333,\"#9c179e\"],[0.4444444444444444,\"#bd3786\"],[0.5555555555555556,\"#d8576b\"],[0.6666666666666666,\"#ed7953\"],[0.7777777777777778,\"#fb9f3a\"],[0.8888888888888888,\"#fdca26\"],[1.0,\"#f0f921\"]]}],\"mesh3d\":[{\"type\":\"mesh3d\",\"colorbar\":{\"outlinewidth\":0,\"ticks\":\"\"}}],\"scatter\":[{\"fillpattern\":{\"fillmode\":\"overlay\",\"size\":10,\"solidity\":0.2},\"type\":\"scatter\"}],\"parcoords\":[{\"type\":\"parcoords\",\"line\":{\"colorbar\":{\"outlinewidth\":0,\"ticks\":\"\"}}}],\"scatterpolargl\":[{\"type\":\"scatterpolargl\",\"marker\":{\"colorbar\":{\"outlinewidth\":0,\"ticks\":\"\"}}}],\"bar\":[{\"error_x\":{\"color\":\"#2a3f5f\"},\"error_y\":{\"color\":\"#2a3f5f\"},\"marker\":{\"line\":{\"color\":\"#E5ECF6\",\"width\":0.5},\"pattern\":{\"fillmode\":\"overlay\",\"size\":10,\"solidity\":0.2}},\"type\":\"bar\"}],\"scattergeo\":[{\"type\":\"scattergeo\",\"marker\":{\"colorbar\":{\"outlinewidth\":0,\"ticks\":\"\"}}}],\"scatterpolar\":[{\"type\":\"scatterpolar\",\"marker\":{\"colorbar\":{\"outlinewidth\":0,\"ticks\":\"\"}}}],\"histogram\":[{\"marker\":{\"pattern\":{\"fillmode\":\"overlay\",\"size\":10,\"solidity\":0.2}},\"type\":\"histogram\"}],\"scattergl\":[{\"type\":\"scattergl\",\"marker\":{\"colorbar\":{\"outlinewidth\":0,\"ticks\":\"\"}}}],\"scatter3d\":[{\"type\":\"scatter3d\",\"line\":{\"colorbar\":{\"outlinewidth\":0,\"ticks\":\"\"}},\"marker\":{\"colorbar\":{\"outlinewidth\":0,\"ticks\":\"\"}}}],\"scattermapbox\":[{\"type\":\"scattermapbox\",\"marker\":{\"colorbar\":{\"outlinewidth\":0,\"ticks\":\"\"}}}],\"scatterternary\":[{\"type\":\"scatterternary\",\"marker\":{\"colorbar\":{\"outlinewidth\":0,\"ticks\":\"\"}}}],\"scattercarpet\":[{\"type\":\"scattercarpet\",\"marker\":{\"colorbar\":{\"outlinewidth\":0,\"ticks\":\"\"}}}],\"carpet\":[{\"aaxis\":{\"endlinecolor\":\"#2a3f5f\",\"gridcolor\":\"white\",\"linecolor\":\"white\",\"minorgridcolor\":\"white\",\"startlinecolor\":\"#2a3f5f\"},\"baxis\":{\"endlinecolor\":\"#2a3f5f\",\"gridcolor\":\"white\",\"linecolor\":\"white\",\"minorgridcolor\":\"white\",\"startlinecolor\":\"#2a3f5f\"},\"type\":\"carpet\"}],\"table\":[{\"cells\":{\"fill\":{\"color\":\"#EBF0F8\"},\"line\":{\"color\":\"white\"}},\"header\":{\"fill\":{\"color\":\"#C8D4E3\"},\"line\":{\"color\":\"white\"}},\"type\":\"table\"}],\"barpolar\":[{\"marker\":{\"line\":{\"color\":\"#E5ECF6\",\"width\":0.5},\"pattern\":{\"fillmode\":\"overlay\",\"size\":10,\"solidity\":0.2}},\"type\":\"barpolar\"}],\"pie\":[{\"automargin\":true,\"type\":\"pie\"}]},\"layout\":{\"autotypenumbers\":\"strict\",\"colorway\":[\"#636efa\",\"#EF553B\",\"#00cc96\",\"#ab63fa\",\"#FFA15A\",\"#19d3f3\",\"#FF6692\",\"#B6E880\",\"#FF97FF\",\"#FECB52\"],\"font\":{\"color\":\"#2a3f5f\"},\"hovermode\":\"closest\",\"hoverlabel\":{\"align\":\"left\"},\"paper_bgcolor\":\"white\",\"plot_bgcolor\":\"#E5ECF6\",\"polar\":{\"bgcolor\":\"#E5ECF6\",\"angularaxis\":{\"gridcolor\":\"white\",\"linecolor\":\"white\",\"ticks\":\"\"},\"radialaxis\":{\"gridcolor\":\"white\",\"linecolor\":\"white\",\"ticks\":\"\"}},\"ternary\":{\"bgcolor\":\"#E5ECF6\",\"aaxis\":{\"gridcolor\":\"white\",\"linecolor\":\"white\",\"ticks\":\"\"},\"baxis\":{\"gridcolor\":\"white\",\"linecolor\":\"white\",\"ticks\":\"\"},\"caxis\":{\"gridcolor\":\"white\",\"linecolor\":\"white\",\"ticks\":\"\"}},\"coloraxis\":{\"colorbar\":{\"outlinewidth\":0,\"ticks\":\"\"}},\"colorscale\":{\"sequential\":[[0.0,\"#0d0887\"],[0.1111111111111111,\"#46039f\"],[0.2222222222222222,\"#7201a8\"],[0.3333333333333333,\"#9c179e\"],[0.4444444444444444,\"#bd3786\"],[0.5555555555555556,\"#d8576b\"],[0.6666666666666666,\"#ed7953\"],[0.7777777777777778,\"#fb9f3a\"],[0.8888888888888888,\"#fdca26\"],[1.0,\"#f0f921\"]],\"sequentialminus\":[[0.0,\"#0d0887\"],[0.1111111111111111,\"#46039f\"],[0.2222222222222222,\"#7201a8\"],[0.3333333333333333,\"#9c179e\"],[0.4444444444444444,\"#bd3786\"],[0.5555555555555556,\"#d8576b\"],[0.6666666666666666,\"#ed7953\"],[0.7777777777777778,\"#fb9f3a\"],[0.8888888888888888,\"#fdca26\"],[1.0,\"#f0f921\"]],\"diverging\":[[0,\"#8e0152\"],[0.1,\"#c51b7d\"],[0.2,\"#de77ae\"],[0.3,\"#f1b6da\"],[0.4,\"#fde0ef\"],[0.5,\"#f7f7f7\"],[0.6,\"#e6f5d0\"],[0.7,\"#b8e186\"],[0.8,\"#7fbc41\"],[0.9,\"#4d9221\"],[1,\"#276419\"]]},\"xaxis\":{\"gridcolor\":\"white\",\"linecolor\":\"white\",\"ticks\":\"\",\"title\":{\"standoff\":15},\"zerolinecolor\":\"white\",\"automargin\":true,\"zerolinewidth\":2},\"yaxis\":{\"gridcolor\":\"white\",\"linecolor\":\"white\",\"ticks\":\"\",\"title\":{\"standoff\":15},\"zerolinecolor\":\"white\",\"automargin\":true,\"zerolinewidth\":2},\"scene\":{\"xaxis\":{\"backgroundcolor\":\"#E5ECF6\",\"gridcolor\":\"white\",\"linecolor\":\"white\",\"showbackground\":true,\"ticks\":\"\",\"zerolinecolor\":\"white\",\"gridwidth\":2},\"yaxis\":{\"backgroundcolor\":\"#E5ECF6\",\"gridcolor\":\"white\",\"linecolor\":\"white\",\"showbackground\":true,\"ticks\":\"\",\"zerolinecolor\":\"white\",\"gridwidth\":2},\"zaxis\":{\"backgroundcolor\":\"#E5ECF6\",\"gridcolor\":\"white\",\"linecolor\":\"white\",\"showbackground\":true,\"ticks\":\"\",\"zerolinecolor\":\"white\",\"gridwidth\":2}},\"shapedefaults\":{\"line\":{\"color\":\"#2a3f5f\"}},\"annotationdefaults\":{\"arrowcolor\":\"#2a3f5f\",\"arrowhead\":0,\"arrowwidth\":1},\"geo\":{\"bgcolor\":\"white\",\"landcolor\":\"#E5ECF6\",\"subunitcolor\":\"white\",\"showland\":true,\"showlakes\":true,\"lakecolor\":\"white\"},\"title\":{\"x\":0.05},\"mapbox\":{\"style\":\"light\"}}},\"xaxis\":{\"anchor\":\"y\",\"domain\":[0.0,1.0],\"title\":{\"text\":\"File Size (MB)\"}},\"yaxis\":{\"anchor\":\"x\",\"domain\":[0.0,1.0],\"title\":{\"text\":\"Number of Images Presented\"}},\"legend\":{\"tracegroupgap\":0},\"title\":{\"text\":\"Allocation of Image Sizes\"},\"barmode\":\"relative\",\"showlegend\":false,\"bargap\":0.1,\"bargroupgap\":0.1},                        {\"responsive\": true}                    ).then(function(){\n",
       "                            \n",
       "var gd = document.getElementById('ad5a2172-5d5e-4081-8056-66b1615fc224');\n",
       "var x = new MutationObserver(function (mutations, observer) {{\n",
       "        var display = window.getComputedStyle(gd).display;\n",
       "        if (!display || display === 'none') {{\n",
       "            console.log([gd, 'removed!']);\n",
       "            Plotly.purge(gd);\n",
       "            observer.disconnect();\n",
       "        }}\n",
       "}});\n",
       "\n",
       "// Listen for the removal of the full notebook cells\n",
       "var notebookContainer = gd.closest('#notebook-container');\n",
       "if (notebookContainer) {{\n",
       "    x.observe(notebookContainer, {childList: true});\n",
       "}}\n",
       "\n",
       "// Listen for the clearing of the current output cell\n",
       "var outputEl = gd.closest('.output');\n",
       "if (outputEl) {{\n",
       "    x.observe(outputEl, {childList: true});\n",
       "}}\n",
       "\n",
       "                        })                };                });            </script>        </div>"
      ]
     },
     "metadata": {},
     "output_type": "display_data"
    }
   ],
   "source": [
    "#Sizes in MB\n",
    "sizes_MB = []\n",
    "for image_path in df[\"image_path\"]:\n",
    "    #load image\n",
    "    img = cv2.imread(image_path)\n",
    "    #Get image size\n",
    "    size = os.path.getsize(image_path)\n",
    "    sizes_MB.append(size/1_000_000)\n",
    "    \n",
    "fig = px.histogram(x=sizes_MB, nbins = 50, title = \"Allocation of Image Sizes\")\n",
    "fig.update_layout(xaxis_title = \"File Size (MB)\",\n",
    "                 yaxis_title = \"Number of Images Presented\",\n",
    "                 showlegend = False,\n",
    "                 bargap = 0.1,\n",
    "                 bargroupgap = 0.1)\n",
    "fig.update_traces(marker = dict(color = \"blue\"))\n",
    "fig.show()"
   ]
  },
  {
   "cell_type": "markdown",
   "metadata": {},
   "source": [
    "Preparing Data for the clients"
   ]
  },
  {
   "cell_type": "code",
   "execution_count": 11,
   "metadata": {},
   "outputs": [
    {
     "name": "stdout",
     "output_type": "stream",
     "text": [
      "Data shape = (548, 2)\n"
     ]
    }
   ],
   "source": [
    "train_ratio = 0.50\n",
    "\n",
    "df_c1, df_c2 = train_test_split(df, train_size = train_ratio, random_state = 42)\n",
    "\n",
    "print(f\"Data shape = {df_c1.shape}\")"
   ]
  },
  {
   "cell_type": "code",
   "execution_count": 12,
   "metadata": {},
   "outputs": [
    {
     "name": "stdout",
     "output_type": "stream",
     "text": [
      "Data shape = (549, 2)\n"
     ]
    }
   ],
   "source": [
    "print(f\"Data shape = {df_c2.shape}\")"
   ]
  },
  {
   "cell_type": "code",
   "execution_count": 39,
   "metadata": {},
   "outputs": [],
   "source": [
    "Df1=pd.DataFrame(df_c1)\n",
    "Df1.to_csv(\"Dataset 2\\Client1_Data.csv\",index=False)\n",
    "Df2=pd.DataFrame(df_c1)\n",
    "Df2.to_csv(\"Dataset 2\\Client2_Data.csv\", index=False)"
   ]
  },
  {
   "cell_type": "code",
   "execution_count": null,
   "metadata": {},
   "outputs": [],
   "source": []
  }
 ],
 "metadata": {
  "kernelspec": {
   "display_name": "Python 3",
   "language": "python",
   "name": "python3"
  },
  "language_info": {
   "codemirror_mode": {
    "name": "ipython",
    "version": 3
   },
   "file_extension": ".py",
   "mimetype": "text/x-python",
   "name": "python",
   "nbconvert_exporter": "python",
   "pygments_lexer": "ipython3",
   "version": "3.11.2"
  }
 },
 "nbformat": 4,
 "nbformat_minor": 2
}
